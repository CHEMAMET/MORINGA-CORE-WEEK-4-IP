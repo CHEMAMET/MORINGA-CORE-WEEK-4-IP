{
  "cells": [
    {
      "cell_type": "markdown",
      "metadata": {
        "id": "h_e1zTOo4nJN"
      },
      "source": [
        "# **AUTOLIB ELECTRIC CAR-SHARING SERVICE COMPANY ANALYSIS**"
      ]
    },
    {
      "cell_type": "markdown",
      "metadata": {
        "id": "0rWCCyxTC1R0"
      },
      "source": [
        "# 1. INTRODUCTION"
      ]
    },
    {
      "cell_type": "markdown",
      "metadata": {
        "id": "U5OYzu4p6a8i"
      },
      "source": [
        "# Defining the question"
      ]
    },
    {
      "cell_type": "markdown",
      "metadata": {
        "id": "O28-0Byg6l0m"
      },
      "source": [
        "The research problem is to investigate electric car usage (blue cars) during weekdays based on the Autolib dataset provided\n",
        "\n",
        "The test hypothesis in this context is to check whether there is a difference in the means of blue cars picked from two different postal codes during the weekdays\n",
        "\n",
        "Null hypothesis: The number of Bluecars taken from postal code 75015 is the same as the number of cars taken from in postal code 75017 during weekdays\n",
        "\n",
        "(μ1=μ2)\n",
        "\n",
        "Alternative hypothesis: The number of Bluecars taken from postal code 75015 is the not the same as the number of cars taken from in postal code 75017 during weekdays\n",
        "\n",
        "(μ1≠μ2)\n",
        "\n",
        "Level of confidence = 95%\n",
        "\n",
        "Significance level = 5%"
      ]
    },
    {
      "cell_type": "markdown",
      "metadata": {
        "id": "YEnhvbbg675L"
      },
      "source": [
        "# Defining the Metric for success"
      ]
    },
    {
      "cell_type": "markdown",
      "metadata": {
        "id": "PDkZuFRF7MGv"
      },
      "source": [
        "This study will be considered successful if the null hypothesis is True.\n",
        "\n",
        "Therefore, to address the above question, these are the objectives I will use:\n",
        "\n",
        "Data cleaning using Python\n",
        "\n",
        "Univariate and Bivariate visualizations and analysis\n",
        "\n",
        "Hypothesis testing\n",
        "\n",
        "Sampling"
      ]
    },
    {
      "cell_type": "markdown",
      "metadata": {
        "id": "NuJD-GwL7llE"
      },
      "source": [
        "# Understanding the context"
      ]
    },
    {
      "cell_type": "markdown",
      "metadata": {
        "id": "4bJsaxLN9D41"
      },
      "source": [
        "We have been tasked to understand electric car usage by solving for another research question. We will work as a Data Scientist for the Autolib electric car-sharing service company to investigate a claim about the blue cars from the provided Autolib dataset.\n",
        "\n",
        "In an effort to do this, we need to identify some areas and periods of interest via sampling stating the reason to the choice of method, then perform hypothesis testing with regards to the claim that we will have made"
      ]
    },
    {
      "cell_type": "markdown",
      "metadata": {
        "id": "Rt-C_Sg99P_o"
      },
      "source": [
        "# Data Relevance"
      ]
    },
    {
      "cell_type": "markdown",
      "metadata": {
        "id": "jTpJtF1iCK9X"
      },
      "source": [
        "The dataset and glossary to use for this project can be found here [http://bit.ly/DSCoreAutolibDataset] and http://bit.ly/DSCoreAutolibDatasetGlossary\n",
        "\n",
        "The dataset is a daily aggregation, by date and postal code, of the number of events on the Autolib network (car-sharing and recharging)"
      ]
    },
    {
      "cell_type": "markdown",
      "metadata": {
        "id": "PTW15cGCDMfJ"
      },
      "source": [
        "# 2. READING THE DATASET"
      ]
    },
    {
      "cell_type": "markdown",
      "metadata": {
        "id": "z4l1s5tIDcwE"
      },
      "source": [
        "# Importing our Libraries"
      ]
    },
    {
      "cell_type": "code",
      "execution_count": null,
      "metadata": {
        "id": "qCLfoBE6Doby"
      },
      "outputs": [],
      "source": [
        "#To avoid printing out warnings\n",
        "import warnings\n",
        "\n",
        "warnings.filterwarnings('ignore')"
      ]
    },
    {
      "cell_type": "code",
      "execution_count": null,
      "metadata": {
        "id": "s0Q1mjl4FfrW"
      },
      "outputs": [],
      "source": [
        "# importing the Libraries we will need\n",
        "import numpy as np\n",
        "\n",
        "import pandas as pd\n",
        "\n",
        "import matplotlib.pyplot as plt\n",
        "\n",
        "import seaborn as sns\n",
        "\n",
        "import math\n",
        "\n",
        "from scipy.stats import ttest_ind\n",
        "from statsmodels.stats import weightstats as stests\n",
        "%matplotlib inline"
      ]
    },
    {
      "cell_type": "markdown",
      "metadata": {
        "id": "vBqF2p_KF8WZ"
      },
      "source": [
        "# Loading the dataset"
      ]
    },
    {
      "cell_type": "code",
      "execution_count": null,
      "metadata": {
        "id": "6guEULiqGBLE"
      },
      "outputs": [],
      "source": [
        "# Loading our dataset\n",
        "# create a dataframe to better view the data\n",
        "# \n",
        "autolib_df = pd.read_csv('/content/autolib_daily_events_postal_code.csv')\n"
      ]
    },
    {
      "cell_type": "markdown",
      "metadata": {
        "id": "RLCY_tnTGXpb"
      },
      "source": [
        "# Understanding our dataset\n",
        "\n",
        "Checking the data\n",
        "\n",
        "\n",
        " "
      ]
    },
    {
      "cell_type": "code",
      "execution_count": null,
      "metadata": {
        "colab": {
          "base_uri": "https://localhost:8080/",
          "height": 288
        },
        "id": "DVI3Lmd1GVR-",
        "outputId": "6e7bac47-d770-42f3-d1d3-2cc8bee21963"
      },
      "outputs": [
        {
          "output_type": "execute_result",
          "data": {
            "text/plain": [
              "   Postal code      date  n_daily_data_points  dayOfWeek day_type  \\\n",
              "0        75001  1/1/2018                 1440          0  weekday   \n",
              "1        75001  1/2/2018                 1438          1  weekday   \n",
              "2        75001  1/3/2018                 1439          2  weekday   \n",
              "3        75001  1/4/2018                 1320          3  weekday   \n",
              "4        75001  1/5/2018                 1440          4  weekday   \n",
              "\n",
              "   BlueCars_taken_sum  BlueCars_returned_sum  Utilib_taken_sum  \\\n",
              "0                 110                    103                 3   \n",
              "1                  98                     94                 1   \n",
              "2                 138                    139                 0   \n",
              "3                 104                    104                 2   \n",
              "4                 114                    117                 3   \n",
              "\n",
              "   Utilib_returned_sum  Utilib_14_taken_sum  Utilib_14_returned_sum  \\\n",
              "0                    2                   10                       9   \n",
              "1                    1                    8                       8   \n",
              "2                    0                    2                       2   \n",
              "3                    2                    9                       8   \n",
              "4                    3                    6                       6   \n",
              "\n",
              "   Slots_freed_sum  Slots_taken_sum  \n",
              "0               22               20  \n",
              "1               23               22  \n",
              "2               27               27  \n",
              "3               25               21  \n",
              "4               18               20  "
            ],
            "text/html": [
              "\n",
              "  <div id=\"df-d7cf86f2-6e74-4730-aa61-cb193f7fc852\">\n",
              "    <div class=\"colab-df-container\">\n",
              "      <div>\n",
              "<style scoped>\n",
              "    .dataframe tbody tr th:only-of-type {\n",
              "        vertical-align: middle;\n",
              "    }\n",
              "\n",
              "    .dataframe tbody tr th {\n",
              "        vertical-align: top;\n",
              "    }\n",
              "\n",
              "    .dataframe thead th {\n",
              "        text-align: right;\n",
              "    }\n",
              "</style>\n",
              "<table border=\"1\" class=\"dataframe\">\n",
              "  <thead>\n",
              "    <tr style=\"text-align: right;\">\n",
              "      <th></th>\n",
              "      <th>Postal code</th>\n",
              "      <th>date</th>\n",
              "      <th>n_daily_data_points</th>\n",
              "      <th>dayOfWeek</th>\n",
              "      <th>day_type</th>\n",
              "      <th>BlueCars_taken_sum</th>\n",
              "      <th>BlueCars_returned_sum</th>\n",
              "      <th>Utilib_taken_sum</th>\n",
              "      <th>Utilib_returned_sum</th>\n",
              "      <th>Utilib_14_taken_sum</th>\n",
              "      <th>Utilib_14_returned_sum</th>\n",
              "      <th>Slots_freed_sum</th>\n",
              "      <th>Slots_taken_sum</th>\n",
              "    </tr>\n",
              "  </thead>\n",
              "  <tbody>\n",
              "    <tr>\n",
              "      <th>0</th>\n",
              "      <td>75001</td>\n",
              "      <td>1/1/2018</td>\n",
              "      <td>1440</td>\n",
              "      <td>0</td>\n",
              "      <td>weekday</td>\n",
              "      <td>110</td>\n",
              "      <td>103</td>\n",
              "      <td>3</td>\n",
              "      <td>2</td>\n",
              "      <td>10</td>\n",
              "      <td>9</td>\n",
              "      <td>22</td>\n",
              "      <td>20</td>\n",
              "    </tr>\n",
              "    <tr>\n",
              "      <th>1</th>\n",
              "      <td>75001</td>\n",
              "      <td>1/2/2018</td>\n",
              "      <td>1438</td>\n",
              "      <td>1</td>\n",
              "      <td>weekday</td>\n",
              "      <td>98</td>\n",
              "      <td>94</td>\n",
              "      <td>1</td>\n",
              "      <td>1</td>\n",
              "      <td>8</td>\n",
              "      <td>8</td>\n",
              "      <td>23</td>\n",
              "      <td>22</td>\n",
              "    </tr>\n",
              "    <tr>\n",
              "      <th>2</th>\n",
              "      <td>75001</td>\n",
              "      <td>1/3/2018</td>\n",
              "      <td>1439</td>\n",
              "      <td>2</td>\n",
              "      <td>weekday</td>\n",
              "      <td>138</td>\n",
              "      <td>139</td>\n",
              "      <td>0</td>\n",
              "      <td>0</td>\n",
              "      <td>2</td>\n",
              "      <td>2</td>\n",
              "      <td>27</td>\n",
              "      <td>27</td>\n",
              "    </tr>\n",
              "    <tr>\n",
              "      <th>3</th>\n",
              "      <td>75001</td>\n",
              "      <td>1/4/2018</td>\n",
              "      <td>1320</td>\n",
              "      <td>3</td>\n",
              "      <td>weekday</td>\n",
              "      <td>104</td>\n",
              "      <td>104</td>\n",
              "      <td>2</td>\n",
              "      <td>2</td>\n",
              "      <td>9</td>\n",
              "      <td>8</td>\n",
              "      <td>25</td>\n",
              "      <td>21</td>\n",
              "    </tr>\n",
              "    <tr>\n",
              "      <th>4</th>\n",
              "      <td>75001</td>\n",
              "      <td>1/5/2018</td>\n",
              "      <td>1440</td>\n",
              "      <td>4</td>\n",
              "      <td>weekday</td>\n",
              "      <td>114</td>\n",
              "      <td>117</td>\n",
              "      <td>3</td>\n",
              "      <td>3</td>\n",
              "      <td>6</td>\n",
              "      <td>6</td>\n",
              "      <td>18</td>\n",
              "      <td>20</td>\n",
              "    </tr>\n",
              "  </tbody>\n",
              "</table>\n",
              "</div>\n",
              "      <button class=\"colab-df-convert\" onclick=\"convertToInteractive('df-d7cf86f2-6e74-4730-aa61-cb193f7fc852')\"\n",
              "              title=\"Convert this dataframe to an interactive table.\"\n",
              "              style=\"display:none;\">\n",
              "        \n",
              "  <svg xmlns=\"http://www.w3.org/2000/svg\" height=\"24px\"viewBox=\"0 0 24 24\"\n",
              "       width=\"24px\">\n",
              "    <path d=\"M0 0h24v24H0V0z\" fill=\"none\"/>\n",
              "    <path d=\"M18.56 5.44l.94 2.06.94-2.06 2.06-.94-2.06-.94-.94-2.06-.94 2.06-2.06.94zm-11 1L8.5 8.5l.94-2.06 2.06-.94-2.06-.94L8.5 2.5l-.94 2.06-2.06.94zm10 10l.94 2.06.94-2.06 2.06-.94-2.06-.94-.94-2.06-.94 2.06-2.06.94z\"/><path d=\"M17.41 7.96l-1.37-1.37c-.4-.4-.92-.59-1.43-.59-.52 0-1.04.2-1.43.59L10.3 9.45l-7.72 7.72c-.78.78-.78 2.05 0 2.83L4 21.41c.39.39.9.59 1.41.59.51 0 1.02-.2 1.41-.59l7.78-7.78 2.81-2.81c.8-.78.8-2.07 0-2.86zM5.41 20L4 18.59l7.72-7.72 1.47 1.35L5.41 20z\"/>\n",
              "  </svg>\n",
              "      </button>\n",
              "      \n",
              "  <style>\n",
              "    .colab-df-container {\n",
              "      display:flex;\n",
              "      flex-wrap:wrap;\n",
              "      gap: 12px;\n",
              "    }\n",
              "\n",
              "    .colab-df-convert {\n",
              "      background-color: #E8F0FE;\n",
              "      border: none;\n",
              "      border-radius: 50%;\n",
              "      cursor: pointer;\n",
              "      display: none;\n",
              "      fill: #1967D2;\n",
              "      height: 32px;\n",
              "      padding: 0 0 0 0;\n",
              "      width: 32px;\n",
              "    }\n",
              "\n",
              "    .colab-df-convert:hover {\n",
              "      background-color: #E2EBFA;\n",
              "      box-shadow: 0px 1px 2px rgba(60, 64, 67, 0.3), 0px 1px 3px 1px rgba(60, 64, 67, 0.15);\n",
              "      fill: #174EA6;\n",
              "    }\n",
              "\n",
              "    [theme=dark] .colab-df-convert {\n",
              "      background-color: #3B4455;\n",
              "      fill: #D2E3FC;\n",
              "    }\n",
              "\n",
              "    [theme=dark] .colab-df-convert:hover {\n",
              "      background-color: #434B5C;\n",
              "      box-shadow: 0px 1px 3px 1px rgba(0, 0, 0, 0.15);\n",
              "      filter: drop-shadow(0px 1px 2px rgba(0, 0, 0, 0.3));\n",
              "      fill: #FFFFFF;\n",
              "    }\n",
              "  </style>\n",
              "\n",
              "      <script>\n",
              "        const buttonEl =\n",
              "          document.querySelector('#df-d7cf86f2-6e74-4730-aa61-cb193f7fc852 button.colab-df-convert');\n",
              "        buttonEl.style.display =\n",
              "          google.colab.kernel.accessAllowed ? 'block' : 'none';\n",
              "\n",
              "        async function convertToInteractive(key) {\n",
              "          const element = document.querySelector('#df-d7cf86f2-6e74-4730-aa61-cb193f7fc852');\n",
              "          const dataTable =\n",
              "            await google.colab.kernel.invokeFunction('convertToInteractive',\n",
              "                                                     [key], {});\n",
              "          if (!dataTable) return;\n",
              "\n",
              "          const docLinkHtml = 'Like what you see? Visit the ' +\n",
              "            '<a target=\"_blank\" href=https://colab.research.google.com/notebooks/data_table.ipynb>data table notebook</a>'\n",
              "            + ' to learn more about interactive tables.';\n",
              "          element.innerHTML = '';\n",
              "          dataTable['output_type'] = 'display_data';\n",
              "          await google.colab.output.renderOutput(dataTable, element);\n",
              "          const docLink = document.createElement('div');\n",
              "          docLink.innerHTML = docLinkHtml;\n",
              "          element.appendChild(docLink);\n",
              "        }\n",
              "      </script>\n",
              "    </div>\n",
              "  </div>\n",
              "  "
            ]
          },
          "metadata": {},
          "execution_count": 66
        }
      ],
      "source": [
        "#preview the top of our dataset\n",
        "autolib_df.head(5)"
      ]
    },
    {
      "cell_type": "code",
      "execution_count": null,
      "metadata": {
        "colab": {
          "base_uri": "https://localhost:8080/",
          "height": 288
        },
        "id": "Tkf-tUQjFfnY",
        "outputId": "7af3ee2a-97f8-4087-afab-5a90bef5672d"
      },
      "outputs": [
        {
          "output_type": "execute_result",
          "data": {
            "text/plain": [
              "       Postal code       date  n_daily_data_points  dayOfWeek day_type  \\\n",
              "16080        95880  6/15/2018                 1440          4  weekday   \n",
              "16081        95880  6/16/2018                 1440          5  weekend   \n",
              "16082        95880  6/17/2018                 1440          6  weekend   \n",
              "16083        95880  6/18/2018                 1440          0  weekday   \n",
              "16084        95880  6/19/2018                 1370          1  weekday   \n",
              "\n",
              "       BlueCars_taken_sum  BlueCars_returned_sum  Utilib_taken_sum  \\\n",
              "16080                  15                     10                 0   \n",
              "16081                  19                     19                 0   \n",
              "16082                  33                     35                 1   \n",
              "16083                  11                     14                 3   \n",
              "16084                   2                      2                 2   \n",
              "\n",
              "       Utilib_returned_sum  Utilib_14_taken_sum  Utilib_14_returned_sum  \\\n",
              "16080                    0                    2                       3   \n",
              "16081                    0                    2                       1   \n",
              "16082                    1                    0                       0   \n",
              "16083                    5                    2                       2   \n",
              "16084                    1                    0                       0   \n",
              "\n",
              "       Slots_freed_sum  Slots_taken_sum  \n",
              "16080                0                0  \n",
              "16081                0                0  \n",
              "16082                0                0  \n",
              "16083                0                0  \n",
              "16084                0                0  "
            ],
            "text/html": [
              "\n",
              "  <div id=\"df-11f5f4f3-abcd-46b4-99a6-3c67cbcfadd4\">\n",
              "    <div class=\"colab-df-container\">\n",
              "      <div>\n",
              "<style scoped>\n",
              "    .dataframe tbody tr th:only-of-type {\n",
              "        vertical-align: middle;\n",
              "    }\n",
              "\n",
              "    .dataframe tbody tr th {\n",
              "        vertical-align: top;\n",
              "    }\n",
              "\n",
              "    .dataframe thead th {\n",
              "        text-align: right;\n",
              "    }\n",
              "</style>\n",
              "<table border=\"1\" class=\"dataframe\">\n",
              "  <thead>\n",
              "    <tr style=\"text-align: right;\">\n",
              "      <th></th>\n",
              "      <th>Postal code</th>\n",
              "      <th>date</th>\n",
              "      <th>n_daily_data_points</th>\n",
              "      <th>dayOfWeek</th>\n",
              "      <th>day_type</th>\n",
              "      <th>BlueCars_taken_sum</th>\n",
              "      <th>BlueCars_returned_sum</th>\n",
              "      <th>Utilib_taken_sum</th>\n",
              "      <th>Utilib_returned_sum</th>\n",
              "      <th>Utilib_14_taken_sum</th>\n",
              "      <th>Utilib_14_returned_sum</th>\n",
              "      <th>Slots_freed_sum</th>\n",
              "      <th>Slots_taken_sum</th>\n",
              "    </tr>\n",
              "  </thead>\n",
              "  <tbody>\n",
              "    <tr>\n",
              "      <th>16080</th>\n",
              "      <td>95880</td>\n",
              "      <td>6/15/2018</td>\n",
              "      <td>1440</td>\n",
              "      <td>4</td>\n",
              "      <td>weekday</td>\n",
              "      <td>15</td>\n",
              "      <td>10</td>\n",
              "      <td>0</td>\n",
              "      <td>0</td>\n",
              "      <td>2</td>\n",
              "      <td>3</td>\n",
              "      <td>0</td>\n",
              "      <td>0</td>\n",
              "    </tr>\n",
              "    <tr>\n",
              "      <th>16081</th>\n",
              "      <td>95880</td>\n",
              "      <td>6/16/2018</td>\n",
              "      <td>1440</td>\n",
              "      <td>5</td>\n",
              "      <td>weekend</td>\n",
              "      <td>19</td>\n",
              "      <td>19</td>\n",
              "      <td>0</td>\n",
              "      <td>0</td>\n",
              "      <td>2</td>\n",
              "      <td>1</td>\n",
              "      <td>0</td>\n",
              "      <td>0</td>\n",
              "    </tr>\n",
              "    <tr>\n",
              "      <th>16082</th>\n",
              "      <td>95880</td>\n",
              "      <td>6/17/2018</td>\n",
              "      <td>1440</td>\n",
              "      <td>6</td>\n",
              "      <td>weekend</td>\n",
              "      <td>33</td>\n",
              "      <td>35</td>\n",
              "      <td>1</td>\n",
              "      <td>1</td>\n",
              "      <td>0</td>\n",
              "      <td>0</td>\n",
              "      <td>0</td>\n",
              "      <td>0</td>\n",
              "    </tr>\n",
              "    <tr>\n",
              "      <th>16083</th>\n",
              "      <td>95880</td>\n",
              "      <td>6/18/2018</td>\n",
              "      <td>1440</td>\n",
              "      <td>0</td>\n",
              "      <td>weekday</td>\n",
              "      <td>11</td>\n",
              "      <td>14</td>\n",
              "      <td>3</td>\n",
              "      <td>5</td>\n",
              "      <td>2</td>\n",
              "      <td>2</td>\n",
              "      <td>0</td>\n",
              "      <td>0</td>\n",
              "    </tr>\n",
              "    <tr>\n",
              "      <th>16084</th>\n",
              "      <td>95880</td>\n",
              "      <td>6/19/2018</td>\n",
              "      <td>1370</td>\n",
              "      <td>1</td>\n",
              "      <td>weekday</td>\n",
              "      <td>2</td>\n",
              "      <td>2</td>\n",
              "      <td>2</td>\n",
              "      <td>1</td>\n",
              "      <td>0</td>\n",
              "      <td>0</td>\n",
              "      <td>0</td>\n",
              "      <td>0</td>\n",
              "    </tr>\n",
              "  </tbody>\n",
              "</table>\n",
              "</div>\n",
              "      <button class=\"colab-df-convert\" onclick=\"convertToInteractive('df-11f5f4f3-abcd-46b4-99a6-3c67cbcfadd4')\"\n",
              "              title=\"Convert this dataframe to an interactive table.\"\n",
              "              style=\"display:none;\">\n",
              "        \n",
              "  <svg xmlns=\"http://www.w3.org/2000/svg\" height=\"24px\"viewBox=\"0 0 24 24\"\n",
              "       width=\"24px\">\n",
              "    <path d=\"M0 0h24v24H0V0z\" fill=\"none\"/>\n",
              "    <path d=\"M18.56 5.44l.94 2.06.94-2.06 2.06-.94-2.06-.94-.94-2.06-.94 2.06-2.06.94zm-11 1L8.5 8.5l.94-2.06 2.06-.94-2.06-.94L8.5 2.5l-.94 2.06-2.06.94zm10 10l.94 2.06.94-2.06 2.06-.94-2.06-.94-.94-2.06-.94 2.06-2.06.94z\"/><path d=\"M17.41 7.96l-1.37-1.37c-.4-.4-.92-.59-1.43-.59-.52 0-1.04.2-1.43.59L10.3 9.45l-7.72 7.72c-.78.78-.78 2.05 0 2.83L4 21.41c.39.39.9.59 1.41.59.51 0 1.02-.2 1.41-.59l7.78-7.78 2.81-2.81c.8-.78.8-2.07 0-2.86zM5.41 20L4 18.59l7.72-7.72 1.47 1.35L5.41 20z\"/>\n",
              "  </svg>\n",
              "      </button>\n",
              "      \n",
              "  <style>\n",
              "    .colab-df-container {\n",
              "      display:flex;\n",
              "      flex-wrap:wrap;\n",
              "      gap: 12px;\n",
              "    }\n",
              "\n",
              "    .colab-df-convert {\n",
              "      background-color: #E8F0FE;\n",
              "      border: none;\n",
              "      border-radius: 50%;\n",
              "      cursor: pointer;\n",
              "      display: none;\n",
              "      fill: #1967D2;\n",
              "      height: 32px;\n",
              "      padding: 0 0 0 0;\n",
              "      width: 32px;\n",
              "    }\n",
              "\n",
              "    .colab-df-convert:hover {\n",
              "      background-color: #E2EBFA;\n",
              "      box-shadow: 0px 1px 2px rgba(60, 64, 67, 0.3), 0px 1px 3px 1px rgba(60, 64, 67, 0.15);\n",
              "      fill: #174EA6;\n",
              "    }\n",
              "\n",
              "    [theme=dark] .colab-df-convert {\n",
              "      background-color: #3B4455;\n",
              "      fill: #D2E3FC;\n",
              "    }\n",
              "\n",
              "    [theme=dark] .colab-df-convert:hover {\n",
              "      background-color: #434B5C;\n",
              "      box-shadow: 0px 1px 3px 1px rgba(0, 0, 0, 0.15);\n",
              "      filter: drop-shadow(0px 1px 2px rgba(0, 0, 0, 0.3));\n",
              "      fill: #FFFFFF;\n",
              "    }\n",
              "  </style>\n",
              "\n",
              "      <script>\n",
              "        const buttonEl =\n",
              "          document.querySelector('#df-11f5f4f3-abcd-46b4-99a6-3c67cbcfadd4 button.colab-df-convert');\n",
              "        buttonEl.style.display =\n",
              "          google.colab.kernel.accessAllowed ? 'block' : 'none';\n",
              "\n",
              "        async function convertToInteractive(key) {\n",
              "          const element = document.querySelector('#df-11f5f4f3-abcd-46b4-99a6-3c67cbcfadd4');\n",
              "          const dataTable =\n",
              "            await google.colab.kernel.invokeFunction('convertToInteractive',\n",
              "                                                     [key], {});\n",
              "          if (!dataTable) return;\n",
              "\n",
              "          const docLinkHtml = 'Like what you see? Visit the ' +\n",
              "            '<a target=\"_blank\" href=https://colab.research.google.com/notebooks/data_table.ipynb>data table notebook</a>'\n",
              "            + ' to learn more about interactive tables.';\n",
              "          element.innerHTML = '';\n",
              "          dataTable['output_type'] = 'display_data';\n",
              "          await google.colab.output.renderOutput(dataTable, element);\n",
              "          const docLink = document.createElement('div');\n",
              "          docLink.innerHTML = docLinkHtml;\n",
              "          element.appendChild(docLink);\n",
              "        }\n",
              "      </script>\n",
              "    </div>\n",
              "  </div>\n",
              "  "
            ]
          },
          "metadata": {},
          "execution_count": 5
        }
      ],
      "source": [
        "#preview the bottom of the dataset\n",
        "autolib_df.tail()"
      ]
    },
    {
      "cell_type": "code",
      "execution_count": null,
      "metadata": {
        "colab": {
          "base_uri": "https://localhost:8080/"
        },
        "id": "os8uFxeDHUns",
        "outputId": "462bdd06-e905-46e1-d235-8287a2ac4f5d"
      },
      "outputs": [
        {
          "output_type": "execute_result",
          "data": {
            "text/plain": [
              "Postal code                int64\n",
              "date                      object\n",
              "n_daily_data_points        int64\n",
              "dayOfWeek                  int64\n",
              "day_type                  object\n",
              "BlueCars_taken_sum         int64\n",
              "BlueCars_returned_sum      int64\n",
              "Utilib_taken_sum           int64\n",
              "Utilib_returned_sum        int64\n",
              "Utilib_14_taken_sum        int64\n",
              "Utilib_14_returned_sum     int64\n",
              "Slots_freed_sum            int64\n",
              "Slots_taken_sum            int64\n",
              "dtype: object"
            ]
          },
          "metadata": {},
          "execution_count": 6
        }
      ],
      "source": [
        "#Checking whether each column has appropriate datatype\n",
        "autolib_df.dtypes"
      ]
    },
    {
      "cell_type": "code",
      "execution_count": null,
      "metadata": {
        "colab": {
          "base_uri": "https://localhost:8080/"
        },
        "id": "waFef4D2IFui",
        "outputId": "d4477119-059c-41b7-dee0-c3e0bf5a4801"
      },
      "outputs": [
        {
          "output_type": "execute_result",
          "data": {
            "text/plain": [
              "<bound method DataFrame.info of        Postal code       date  n_daily_data_points  dayOfWeek day_type  \\\n",
              "0            75001   1/1/2018                 1440          0  weekday   \n",
              "1            75001   1/2/2018                 1438          1  weekday   \n",
              "2            75001   1/3/2018                 1439          2  weekday   \n",
              "3            75001   1/4/2018                 1320          3  weekday   \n",
              "4            75001   1/5/2018                 1440          4  weekday   \n",
              "...            ...        ...                  ...        ...      ...   \n",
              "16080        95880  6/15/2018                 1440          4  weekday   \n",
              "16081        95880  6/16/2018                 1440          5  weekend   \n",
              "16082        95880  6/17/2018                 1440          6  weekend   \n",
              "16083        95880  6/18/2018                 1440          0  weekday   \n",
              "16084        95880  6/19/2018                 1370          1  weekday   \n",
              "\n",
              "       BlueCars_taken_sum  BlueCars_returned_sum  Utilib_taken_sum  \\\n",
              "0                     110                    103                 3   \n",
              "1                      98                     94                 1   \n",
              "2                     138                    139                 0   \n",
              "3                     104                    104                 2   \n",
              "4                     114                    117                 3   \n",
              "...                   ...                    ...               ...   \n",
              "16080                  15                     10                 0   \n",
              "16081                  19                     19                 0   \n",
              "16082                  33                     35                 1   \n",
              "16083                  11                     14                 3   \n",
              "16084                   2                      2                 2   \n",
              "\n",
              "       Utilib_returned_sum  Utilib_14_taken_sum  Utilib_14_returned_sum  \\\n",
              "0                        2                   10                       9   \n",
              "1                        1                    8                       8   \n",
              "2                        0                    2                       2   \n",
              "3                        2                    9                       8   \n",
              "4                        3                    6                       6   \n",
              "...                    ...                  ...                     ...   \n",
              "16080                    0                    2                       3   \n",
              "16081                    0                    2                       1   \n",
              "16082                    1                    0                       0   \n",
              "16083                    5                    2                       2   \n",
              "16084                    1                    0                       0   \n",
              "\n",
              "       Slots_freed_sum  Slots_taken_sum  \n",
              "0                   22               20  \n",
              "1                   23               22  \n",
              "2                   27               27  \n",
              "3                   25               21  \n",
              "4                   18               20  \n",
              "...                ...              ...  \n",
              "16080                0                0  \n",
              "16081                0                0  \n",
              "16082                0                0  \n",
              "16083                0                0  \n",
              "16084                0                0  \n",
              "\n",
              "[16085 rows x 13 columns]>"
            ]
          },
          "metadata": {},
          "execution_count": 7
        }
      ],
      "source": [
        "#Checking the dataset information\n",
        "autolib_df.info"
      ]
    },
    {
      "cell_type": "code",
      "execution_count": null,
      "metadata": {
        "colab": {
          "base_uri": "https://localhost:8080/",
          "height": 364
        },
        "id": "CWdqmz25INsg",
        "outputId": "69ef107b-82e5-4c6e-a6e3-9d69bd603d3f"
      },
      "outputs": [
        {
          "output_type": "execute_result",
          "data": {
            "text/plain": [
              "        Postal code  n_daily_data_points     dayOfWeek  BlueCars_taken_sum  \\\n",
              "count  16085.000000         16085.000000  16085.000000        16085.000000   \n",
              "mean   88791.293876          1431.330619      2.969599          125.926951   \n",
              "std     7647.342000            33.212050      2.008378          185.426579   \n",
              "min    75001.000000          1174.000000      0.000000            0.000000   \n",
              "25%    91330.000000          1439.000000      1.000000           20.000000   \n",
              "50%    92340.000000          1440.000000      3.000000           46.000000   \n",
              "75%    93400.000000          1440.000000      5.000000          135.000000   \n",
              "max    95880.000000          1440.000000      6.000000         1352.000000   \n",
              "\n",
              "       BlueCars_returned_sum  Utilib_taken_sum  Utilib_returned_sum  \\\n",
              "count           16085.000000      16085.000000         16085.000000   \n",
              "mean              125.912714          3.698290             3.699099   \n",
              "std               185.501535          5.815058             5.824634   \n",
              "min                 0.000000          0.000000             0.000000   \n",
              "25%                20.000000          0.000000             0.000000   \n",
              "50%                46.000000          1.000000             1.000000   \n",
              "75%               135.000000          4.000000             4.000000   \n",
              "max              1332.000000         54.000000            58.000000   \n",
              "\n",
              "       Utilib_14_taken_sum  Utilib_14_returned_sum  Slots_freed_sum  \\\n",
              "count         16085.000000            16085.000000     16085.000000   \n",
              "mean              8.600560                8.599192        22.629033   \n",
              "std              12.870098               12.868993        52.120263   \n",
              "min               0.000000                0.000000         0.000000   \n",
              "25%               1.000000                1.000000         0.000000   \n",
              "50%               3.000000                3.000000         0.000000   \n",
              "75%              10.000000               10.000000         5.000000   \n",
              "max             100.000000              101.000000       360.000000   \n",
              "\n",
              "       Slots_taken_sum  \n",
              "count     16085.000000  \n",
              "mean         22.629282  \n",
              "std          52.146030  \n",
              "min           0.000000  \n",
              "25%           0.000000  \n",
              "50%           0.000000  \n",
              "75%           5.000000  \n",
              "max         359.000000  "
            ],
            "text/html": [
              "\n",
              "  <div id=\"df-32b6f19f-ad76-48d6-a38f-f6b702de16c5\">\n",
              "    <div class=\"colab-df-container\">\n",
              "      <div>\n",
              "<style scoped>\n",
              "    .dataframe tbody tr th:only-of-type {\n",
              "        vertical-align: middle;\n",
              "    }\n",
              "\n",
              "    .dataframe tbody tr th {\n",
              "        vertical-align: top;\n",
              "    }\n",
              "\n",
              "    .dataframe thead th {\n",
              "        text-align: right;\n",
              "    }\n",
              "</style>\n",
              "<table border=\"1\" class=\"dataframe\">\n",
              "  <thead>\n",
              "    <tr style=\"text-align: right;\">\n",
              "      <th></th>\n",
              "      <th>Postal code</th>\n",
              "      <th>n_daily_data_points</th>\n",
              "      <th>dayOfWeek</th>\n",
              "      <th>BlueCars_taken_sum</th>\n",
              "      <th>BlueCars_returned_sum</th>\n",
              "      <th>Utilib_taken_sum</th>\n",
              "      <th>Utilib_returned_sum</th>\n",
              "      <th>Utilib_14_taken_sum</th>\n",
              "      <th>Utilib_14_returned_sum</th>\n",
              "      <th>Slots_freed_sum</th>\n",
              "      <th>Slots_taken_sum</th>\n",
              "    </tr>\n",
              "  </thead>\n",
              "  <tbody>\n",
              "    <tr>\n",
              "      <th>count</th>\n",
              "      <td>16085.000000</td>\n",
              "      <td>16085.000000</td>\n",
              "      <td>16085.000000</td>\n",
              "      <td>16085.000000</td>\n",
              "      <td>16085.000000</td>\n",
              "      <td>16085.000000</td>\n",
              "      <td>16085.000000</td>\n",
              "      <td>16085.000000</td>\n",
              "      <td>16085.000000</td>\n",
              "      <td>16085.000000</td>\n",
              "      <td>16085.000000</td>\n",
              "    </tr>\n",
              "    <tr>\n",
              "      <th>mean</th>\n",
              "      <td>88791.293876</td>\n",
              "      <td>1431.330619</td>\n",
              "      <td>2.969599</td>\n",
              "      <td>125.926951</td>\n",
              "      <td>125.912714</td>\n",
              "      <td>3.698290</td>\n",
              "      <td>3.699099</td>\n",
              "      <td>8.600560</td>\n",
              "      <td>8.599192</td>\n",
              "      <td>22.629033</td>\n",
              "      <td>22.629282</td>\n",
              "    </tr>\n",
              "    <tr>\n",
              "      <th>std</th>\n",
              "      <td>7647.342000</td>\n",
              "      <td>33.212050</td>\n",
              "      <td>2.008378</td>\n",
              "      <td>185.426579</td>\n",
              "      <td>185.501535</td>\n",
              "      <td>5.815058</td>\n",
              "      <td>5.824634</td>\n",
              "      <td>12.870098</td>\n",
              "      <td>12.868993</td>\n",
              "      <td>52.120263</td>\n",
              "      <td>52.146030</td>\n",
              "    </tr>\n",
              "    <tr>\n",
              "      <th>min</th>\n",
              "      <td>75001.000000</td>\n",
              "      <td>1174.000000</td>\n",
              "      <td>0.000000</td>\n",
              "      <td>0.000000</td>\n",
              "      <td>0.000000</td>\n",
              "      <td>0.000000</td>\n",
              "      <td>0.000000</td>\n",
              "      <td>0.000000</td>\n",
              "      <td>0.000000</td>\n",
              "      <td>0.000000</td>\n",
              "      <td>0.000000</td>\n",
              "    </tr>\n",
              "    <tr>\n",
              "      <th>25%</th>\n",
              "      <td>91330.000000</td>\n",
              "      <td>1439.000000</td>\n",
              "      <td>1.000000</td>\n",
              "      <td>20.000000</td>\n",
              "      <td>20.000000</td>\n",
              "      <td>0.000000</td>\n",
              "      <td>0.000000</td>\n",
              "      <td>1.000000</td>\n",
              "      <td>1.000000</td>\n",
              "      <td>0.000000</td>\n",
              "      <td>0.000000</td>\n",
              "    </tr>\n",
              "    <tr>\n",
              "      <th>50%</th>\n",
              "      <td>92340.000000</td>\n",
              "      <td>1440.000000</td>\n",
              "      <td>3.000000</td>\n",
              "      <td>46.000000</td>\n",
              "      <td>46.000000</td>\n",
              "      <td>1.000000</td>\n",
              "      <td>1.000000</td>\n",
              "      <td>3.000000</td>\n",
              "      <td>3.000000</td>\n",
              "      <td>0.000000</td>\n",
              "      <td>0.000000</td>\n",
              "    </tr>\n",
              "    <tr>\n",
              "      <th>75%</th>\n",
              "      <td>93400.000000</td>\n",
              "      <td>1440.000000</td>\n",
              "      <td>5.000000</td>\n",
              "      <td>135.000000</td>\n",
              "      <td>135.000000</td>\n",
              "      <td>4.000000</td>\n",
              "      <td>4.000000</td>\n",
              "      <td>10.000000</td>\n",
              "      <td>10.000000</td>\n",
              "      <td>5.000000</td>\n",
              "      <td>5.000000</td>\n",
              "    </tr>\n",
              "    <tr>\n",
              "      <th>max</th>\n",
              "      <td>95880.000000</td>\n",
              "      <td>1440.000000</td>\n",
              "      <td>6.000000</td>\n",
              "      <td>1352.000000</td>\n",
              "      <td>1332.000000</td>\n",
              "      <td>54.000000</td>\n",
              "      <td>58.000000</td>\n",
              "      <td>100.000000</td>\n",
              "      <td>101.000000</td>\n",
              "      <td>360.000000</td>\n",
              "      <td>359.000000</td>\n",
              "    </tr>\n",
              "  </tbody>\n",
              "</table>\n",
              "</div>\n",
              "      <button class=\"colab-df-convert\" onclick=\"convertToInteractive('df-32b6f19f-ad76-48d6-a38f-f6b702de16c5')\"\n",
              "              title=\"Convert this dataframe to an interactive table.\"\n",
              "              style=\"display:none;\">\n",
              "        \n",
              "  <svg xmlns=\"http://www.w3.org/2000/svg\" height=\"24px\"viewBox=\"0 0 24 24\"\n",
              "       width=\"24px\">\n",
              "    <path d=\"M0 0h24v24H0V0z\" fill=\"none\"/>\n",
              "    <path d=\"M18.56 5.44l.94 2.06.94-2.06 2.06-.94-2.06-.94-.94-2.06-.94 2.06-2.06.94zm-11 1L8.5 8.5l.94-2.06 2.06-.94-2.06-.94L8.5 2.5l-.94 2.06-2.06.94zm10 10l.94 2.06.94-2.06 2.06-.94-2.06-.94-.94-2.06-.94 2.06-2.06.94z\"/><path d=\"M17.41 7.96l-1.37-1.37c-.4-.4-.92-.59-1.43-.59-.52 0-1.04.2-1.43.59L10.3 9.45l-7.72 7.72c-.78.78-.78 2.05 0 2.83L4 21.41c.39.39.9.59 1.41.59.51 0 1.02-.2 1.41-.59l7.78-7.78 2.81-2.81c.8-.78.8-2.07 0-2.86zM5.41 20L4 18.59l7.72-7.72 1.47 1.35L5.41 20z\"/>\n",
              "  </svg>\n",
              "      </button>\n",
              "      \n",
              "  <style>\n",
              "    .colab-df-container {\n",
              "      display:flex;\n",
              "      flex-wrap:wrap;\n",
              "      gap: 12px;\n",
              "    }\n",
              "\n",
              "    .colab-df-convert {\n",
              "      background-color: #E8F0FE;\n",
              "      border: none;\n",
              "      border-radius: 50%;\n",
              "      cursor: pointer;\n",
              "      display: none;\n",
              "      fill: #1967D2;\n",
              "      height: 32px;\n",
              "      padding: 0 0 0 0;\n",
              "      width: 32px;\n",
              "    }\n",
              "\n",
              "    .colab-df-convert:hover {\n",
              "      background-color: #E2EBFA;\n",
              "      box-shadow: 0px 1px 2px rgba(60, 64, 67, 0.3), 0px 1px 3px 1px rgba(60, 64, 67, 0.15);\n",
              "      fill: #174EA6;\n",
              "    }\n",
              "\n",
              "    [theme=dark] .colab-df-convert {\n",
              "      background-color: #3B4455;\n",
              "      fill: #D2E3FC;\n",
              "    }\n",
              "\n",
              "    [theme=dark] .colab-df-convert:hover {\n",
              "      background-color: #434B5C;\n",
              "      box-shadow: 0px 1px 3px 1px rgba(0, 0, 0, 0.15);\n",
              "      filter: drop-shadow(0px 1px 2px rgba(0, 0, 0, 0.3));\n",
              "      fill: #FFFFFF;\n",
              "    }\n",
              "  </style>\n",
              "\n",
              "      <script>\n",
              "        const buttonEl =\n",
              "          document.querySelector('#df-32b6f19f-ad76-48d6-a38f-f6b702de16c5 button.colab-df-convert');\n",
              "        buttonEl.style.display =\n",
              "          google.colab.kernel.accessAllowed ? 'block' : 'none';\n",
              "\n",
              "        async function convertToInteractive(key) {\n",
              "          const element = document.querySelector('#df-32b6f19f-ad76-48d6-a38f-f6b702de16c5');\n",
              "          const dataTable =\n",
              "            await google.colab.kernel.invokeFunction('convertToInteractive',\n",
              "                                                     [key], {});\n",
              "          if (!dataTable) return;\n",
              "\n",
              "          const docLinkHtml = 'Like what you see? Visit the ' +\n",
              "            '<a target=\"_blank\" href=https://colab.research.google.com/notebooks/data_table.ipynb>data table notebook</a>'\n",
              "            + ' to learn more about interactive tables.';\n",
              "          element.innerHTML = '';\n",
              "          dataTable['output_type'] = 'display_data';\n",
              "          await google.colab.output.renderOutput(dataTable, element);\n",
              "          const docLink = document.createElement('div');\n",
              "          docLink.innerHTML = docLinkHtml;\n",
              "          element.appendChild(docLink);\n",
              "        }\n",
              "      </script>\n",
              "    </div>\n",
              "  </div>\n",
              "  "
            ]
          },
          "metadata": {},
          "execution_count": 8
        }
      ],
      "source": [
        "#Checking the numeric features of the dataset\n",
        "autolib_df.describe()"
      ]
    },
    {
      "cell_type": "code",
      "execution_count": null,
      "metadata": {
        "colab": {
          "base_uri": "https://localhost:8080/"
        },
        "id": "6n1PcnxdIifq",
        "outputId": "c933606e-0e14-4d55-95a3-4086f46c29aa"
      },
      "outputs": [
        {
          "output_type": "stream",
          "name": "stdout",
          "text": [
            "This dataset has 16085 rows and 13 columns\n"
          ]
        }
      ],
      "source": [
        "#Checking the shape of the dataset(rows and columns)\n",
        "print('This dataset has ' + str(autolib_df.shape[0]) + ' rows and ' +  str(autolib_df.shape[1]) + ' columns' )"
      ]
    },
    {
      "cell_type": "code",
      "execution_count": null,
      "metadata": {
        "colab": {
          "base_uri": "https://localhost:8080/"
        },
        "id": "DZxAq3gNIoPX",
        "outputId": "8adced65-4ff9-4769-e665-3787df6fb5f7"
      },
      "outputs": [
        {
          "output_type": "execute_result",
          "data": {
            "text/plain": [
              "Index(['Postal code', 'date', 'n_daily_data_points', 'dayOfWeek', 'day_type',\n",
              "       'BlueCars_taken_sum', 'BlueCars_returned_sum', 'Utilib_taken_sum',\n",
              "       'Utilib_returned_sum', 'Utilib_14_taken_sum', 'Utilib_14_returned_sum',\n",
              "       'Slots_freed_sum', 'Slots_taken_sum'],\n",
              "      dtype='object')"
            ]
          },
          "metadata": {},
          "execution_count": 10
        }
      ],
      "source": [
        "#checking the columns\n",
        "autolib_df.columns"
      ]
    },
    {
      "cell_type": "markdown",
      "metadata": {
        "id": "MItvhXY5JMx-"
      },
      "source": [
        "# Since our hypothesis is majorly for weekdays, we will filter out data to have data that concerns weekdays only"
      ]
    },
    {
      "cell_type": "code",
      "execution_count": null,
      "metadata": {
        "colab": {
          "base_uri": "https://localhost:8080/"
        },
        "id": "FEjBeRcFJbMG",
        "outputId": "5437f2a9-95d1-4e06-e9ee-94a94d6b73cf"
      },
      "outputs": [
        {
          "output_type": "execute_result",
          "data": {
            "text/plain": [
              "(11544, 13)"
            ]
          },
          "metadata": {},
          "execution_count": 11
        }
      ],
      "source": [
        "# Acessing the data for weekdays only\n",
        "# \n",
        "autolib_df = autolib_df[autolib_df['day_type'] == 'weekday']\n",
        "# \n",
        "autolib_df.shape\n",
        "\n"
      ]
    },
    {
      "cell_type": "markdown",
      "metadata": {
        "id": "CUWf296zJqK9"
      },
      "source": [
        "We observe less rows compared to the original dataset which had 16085"
      ]
    },
    {
      "cell_type": "markdown",
      "metadata": {
        "id": "yXnOOYwlJxs1"
      },
      "source": [
        "# Data Cleaning"
      ]
    },
    {
      "cell_type": "code",
      "execution_count": null,
      "metadata": {
        "colab": {
          "base_uri": "https://localhost:8080/",
          "height": 270
        },
        "id": "gm3-3KEFJ2nO",
        "outputId": "6b0d772b-266e-4802-e3fa-075e11b2227e"
      },
      "outputs": [
        {
          "output_type": "execute_result",
          "data": {
            "text/plain": [
              "   postalcode      date  ndailydatapoints  dayofweek  daytype  \\\n",
              "0       75001  1/1/2018              1440          0  weekday   \n",
              "1       75001  1/2/2018              1438          1  weekday   \n",
              "2       75001  1/3/2018              1439          2  weekday   \n",
              "3       75001  1/4/2018              1320          3  weekday   \n",
              "4       75001  1/5/2018              1440          4  weekday   \n",
              "\n",
              "   bluecarstakensum  bluecarsreturnedsum  utilibtakensum  utilibreturnedsum  \\\n",
              "0               110                  103               3                  2   \n",
              "1                98                   94               1                  1   \n",
              "2               138                  139               0                  0   \n",
              "3               104                  104               2                  2   \n",
              "4               114                  117               3                  3   \n",
              "\n",
              "   utilib14takensum  utilib14returnedsum  slotsfreedsum  slotstakensum  \n",
              "0                10                    9             22             20  \n",
              "1                 8                    8             23             22  \n",
              "2                 2                    2             27             27  \n",
              "3                 9                    8             25             21  \n",
              "4                 6                    6             18             20  "
            ],
            "text/html": [
              "\n",
              "  <div id=\"df-9b99f284-ac6e-4266-937f-9a34ff292b31\">\n",
              "    <div class=\"colab-df-container\">\n",
              "      <div>\n",
              "<style scoped>\n",
              "    .dataframe tbody tr th:only-of-type {\n",
              "        vertical-align: middle;\n",
              "    }\n",
              "\n",
              "    .dataframe tbody tr th {\n",
              "        vertical-align: top;\n",
              "    }\n",
              "\n",
              "    .dataframe thead th {\n",
              "        text-align: right;\n",
              "    }\n",
              "</style>\n",
              "<table border=\"1\" class=\"dataframe\">\n",
              "  <thead>\n",
              "    <tr style=\"text-align: right;\">\n",
              "      <th></th>\n",
              "      <th>postalcode</th>\n",
              "      <th>date</th>\n",
              "      <th>ndailydatapoints</th>\n",
              "      <th>dayofweek</th>\n",
              "      <th>daytype</th>\n",
              "      <th>bluecarstakensum</th>\n",
              "      <th>bluecarsreturnedsum</th>\n",
              "      <th>utilibtakensum</th>\n",
              "      <th>utilibreturnedsum</th>\n",
              "      <th>utilib14takensum</th>\n",
              "      <th>utilib14returnedsum</th>\n",
              "      <th>slotsfreedsum</th>\n",
              "      <th>slotstakensum</th>\n",
              "    </tr>\n",
              "  </thead>\n",
              "  <tbody>\n",
              "    <tr>\n",
              "      <th>0</th>\n",
              "      <td>75001</td>\n",
              "      <td>1/1/2018</td>\n",
              "      <td>1440</td>\n",
              "      <td>0</td>\n",
              "      <td>weekday</td>\n",
              "      <td>110</td>\n",
              "      <td>103</td>\n",
              "      <td>3</td>\n",
              "      <td>2</td>\n",
              "      <td>10</td>\n",
              "      <td>9</td>\n",
              "      <td>22</td>\n",
              "      <td>20</td>\n",
              "    </tr>\n",
              "    <tr>\n",
              "      <th>1</th>\n",
              "      <td>75001</td>\n",
              "      <td>1/2/2018</td>\n",
              "      <td>1438</td>\n",
              "      <td>1</td>\n",
              "      <td>weekday</td>\n",
              "      <td>98</td>\n",
              "      <td>94</td>\n",
              "      <td>1</td>\n",
              "      <td>1</td>\n",
              "      <td>8</td>\n",
              "      <td>8</td>\n",
              "      <td>23</td>\n",
              "      <td>22</td>\n",
              "    </tr>\n",
              "    <tr>\n",
              "      <th>2</th>\n",
              "      <td>75001</td>\n",
              "      <td>1/3/2018</td>\n",
              "      <td>1439</td>\n",
              "      <td>2</td>\n",
              "      <td>weekday</td>\n",
              "      <td>138</td>\n",
              "      <td>139</td>\n",
              "      <td>0</td>\n",
              "      <td>0</td>\n",
              "      <td>2</td>\n",
              "      <td>2</td>\n",
              "      <td>27</td>\n",
              "      <td>27</td>\n",
              "    </tr>\n",
              "    <tr>\n",
              "      <th>3</th>\n",
              "      <td>75001</td>\n",
              "      <td>1/4/2018</td>\n",
              "      <td>1320</td>\n",
              "      <td>3</td>\n",
              "      <td>weekday</td>\n",
              "      <td>104</td>\n",
              "      <td>104</td>\n",
              "      <td>2</td>\n",
              "      <td>2</td>\n",
              "      <td>9</td>\n",
              "      <td>8</td>\n",
              "      <td>25</td>\n",
              "      <td>21</td>\n",
              "    </tr>\n",
              "    <tr>\n",
              "      <th>4</th>\n",
              "      <td>75001</td>\n",
              "      <td>1/5/2018</td>\n",
              "      <td>1440</td>\n",
              "      <td>4</td>\n",
              "      <td>weekday</td>\n",
              "      <td>114</td>\n",
              "      <td>117</td>\n",
              "      <td>3</td>\n",
              "      <td>3</td>\n",
              "      <td>6</td>\n",
              "      <td>6</td>\n",
              "      <td>18</td>\n",
              "      <td>20</td>\n",
              "    </tr>\n",
              "  </tbody>\n",
              "</table>\n",
              "</div>\n",
              "      <button class=\"colab-df-convert\" onclick=\"convertToInteractive('df-9b99f284-ac6e-4266-937f-9a34ff292b31')\"\n",
              "              title=\"Convert this dataframe to an interactive table.\"\n",
              "              style=\"display:none;\">\n",
              "        \n",
              "  <svg xmlns=\"http://www.w3.org/2000/svg\" height=\"24px\"viewBox=\"0 0 24 24\"\n",
              "       width=\"24px\">\n",
              "    <path d=\"M0 0h24v24H0V0z\" fill=\"none\"/>\n",
              "    <path d=\"M18.56 5.44l.94 2.06.94-2.06 2.06-.94-2.06-.94-.94-2.06-.94 2.06-2.06.94zm-11 1L8.5 8.5l.94-2.06 2.06-.94-2.06-.94L8.5 2.5l-.94 2.06-2.06.94zm10 10l.94 2.06.94-2.06 2.06-.94-2.06-.94-.94-2.06-.94 2.06-2.06.94z\"/><path d=\"M17.41 7.96l-1.37-1.37c-.4-.4-.92-.59-1.43-.59-.52 0-1.04.2-1.43.59L10.3 9.45l-7.72 7.72c-.78.78-.78 2.05 0 2.83L4 21.41c.39.39.9.59 1.41.59.51 0 1.02-.2 1.41-.59l7.78-7.78 2.81-2.81c.8-.78.8-2.07 0-2.86zM5.41 20L4 18.59l7.72-7.72 1.47 1.35L5.41 20z\"/>\n",
              "  </svg>\n",
              "      </button>\n",
              "      \n",
              "  <style>\n",
              "    .colab-df-container {\n",
              "      display:flex;\n",
              "      flex-wrap:wrap;\n",
              "      gap: 12px;\n",
              "    }\n",
              "\n",
              "    .colab-df-convert {\n",
              "      background-color: #E8F0FE;\n",
              "      border: none;\n",
              "      border-radius: 50%;\n",
              "      cursor: pointer;\n",
              "      display: none;\n",
              "      fill: #1967D2;\n",
              "      height: 32px;\n",
              "      padding: 0 0 0 0;\n",
              "      width: 32px;\n",
              "    }\n",
              "\n",
              "    .colab-df-convert:hover {\n",
              "      background-color: #E2EBFA;\n",
              "      box-shadow: 0px 1px 2px rgba(60, 64, 67, 0.3), 0px 1px 3px 1px rgba(60, 64, 67, 0.15);\n",
              "      fill: #174EA6;\n",
              "    }\n",
              "\n",
              "    [theme=dark] .colab-df-convert {\n",
              "      background-color: #3B4455;\n",
              "      fill: #D2E3FC;\n",
              "    }\n",
              "\n",
              "    [theme=dark] .colab-df-convert:hover {\n",
              "      background-color: #434B5C;\n",
              "      box-shadow: 0px 1px 3px 1px rgba(0, 0, 0, 0.15);\n",
              "      filter: drop-shadow(0px 1px 2px rgba(0, 0, 0, 0.3));\n",
              "      fill: #FFFFFF;\n",
              "    }\n",
              "  </style>\n",
              "\n",
              "      <script>\n",
              "        const buttonEl =\n",
              "          document.querySelector('#df-9b99f284-ac6e-4266-937f-9a34ff292b31 button.colab-df-convert');\n",
              "        buttonEl.style.display =\n",
              "          google.colab.kernel.accessAllowed ? 'block' : 'none';\n",
              "\n",
              "        async function convertToInteractive(key) {\n",
              "          const element = document.querySelector('#df-9b99f284-ac6e-4266-937f-9a34ff292b31');\n",
              "          const dataTable =\n",
              "            await google.colab.kernel.invokeFunction('convertToInteractive',\n",
              "                                                     [key], {});\n",
              "          if (!dataTable) return;\n",
              "\n",
              "          const docLinkHtml = 'Like what you see? Visit the ' +\n",
              "            '<a target=\"_blank\" href=https://colab.research.google.com/notebooks/data_table.ipynb>data table notebook</a>'\n",
              "            + ' to learn more about interactive tables.';\n",
              "          element.innerHTML = '';\n",
              "          dataTable['output_type'] = 'display_data';\n",
              "          await google.colab.output.renderOutput(dataTable, element);\n",
              "          const docLink = document.createElement('div');\n",
              "          docLink.innerHTML = docLinkHtml;\n",
              "          element.appendChild(docLink);\n",
              "        }\n",
              "      </script>\n",
              "    </div>\n",
              "  </div>\n",
              "  "
            ]
          },
          "metadata": {},
          "execution_count": 12
        }
      ],
      "source": [
        "# Removing spaces from the dataset\n",
        "autolib_df .columns = autolib_df.columns.str.strip().str.lower().str.replace('_','').str.replace('.','').str.replace(' ','')\n",
        "autolib_df .head()"
      ]
    },
    {
      "cell_type": "markdown",
      "metadata": {
        "id": "wp3vmGQiKIHe"
      },
      "source": [
        "# Missing Values"
      ]
    },
    {
      "cell_type": "code",
      "execution_count": null,
      "metadata": {
        "colab": {
          "base_uri": "https://localhost:8080/"
        },
        "id": "mgglJ8DHKQTu",
        "outputId": "5540bba5-fa16-4ae1-96fc-2e60c023eb48"
      },
      "outputs": [
        {
          "output_type": "execute_result",
          "data": {
            "text/plain": [
              "postalcode             0\n",
              "date                   0\n",
              "ndailydatapoints       0\n",
              "dayofweek              0\n",
              "daytype                0\n",
              "bluecarstakensum       0\n",
              "bluecarsreturnedsum    0\n",
              "utilibtakensum         0\n",
              "utilibreturnedsum      0\n",
              "utilib14takensum       0\n",
              "utilib14returnedsum    0\n",
              "slotsfreedsum          0\n",
              "slotstakensum          0\n",
              "dtype: int64"
            ]
          },
          "metadata": {},
          "execution_count": 13
        }
      ],
      "source": [
        "# checking for null values\n",
        "autolib_df .isnull().sum()\n"
      ]
    },
    {
      "cell_type": "markdown",
      "metadata": {
        "id": "NbeKgTnCKZYG"
      },
      "source": [
        "The output reveals that there are no missig values hence the data is good for our analysis."
      ]
    },
    {
      "cell_type": "markdown",
      "metadata": {
        "id": "TqpUVcmyK5-M"
      },
      "source": [
        "# Handling Messy columns"
      ]
    },
    {
      "cell_type": "code",
      "execution_count": null,
      "metadata": {
        "colab": {
          "base_uri": "https://localhost:8080/",
          "height": 270
        },
        "id": "4lNc2qF2LDR1",
        "outputId": "78bc58da-d364-4c65-faaf-465c695810da"
      },
      "outputs": [
        {
          "output_type": "execute_result",
          "data": {
            "text/plain": [
              "   postalcode      date  ndailydatapoints  dayofweek  daytype  \\\n",
              "0       75001  1/1/2018              1440          0  weekday   \n",
              "1       75001  1/2/2018              1438          1  weekday   \n",
              "2       75001  1/3/2018              1439          2  weekday   \n",
              "3       75001  1/4/2018              1320          3  weekday   \n",
              "4       75001  1/5/2018              1440          4  weekday   \n",
              "\n",
              "   bluecarstakensum  bluecarsreturnedsum  slotsfreedsum  slotstakensum  \n",
              "0               110                  103             22             20  \n",
              "1                98                   94             23             22  \n",
              "2               138                  139             27             27  \n",
              "3               104                  104             25             21  \n",
              "4               114                  117             18             20  "
            ],
            "text/html": [
              "\n",
              "  <div id=\"df-50f6861f-549f-4fab-ae6f-03316925d30f\">\n",
              "    <div class=\"colab-df-container\">\n",
              "      <div>\n",
              "<style scoped>\n",
              "    .dataframe tbody tr th:only-of-type {\n",
              "        vertical-align: middle;\n",
              "    }\n",
              "\n",
              "    .dataframe tbody tr th {\n",
              "        vertical-align: top;\n",
              "    }\n",
              "\n",
              "    .dataframe thead th {\n",
              "        text-align: right;\n",
              "    }\n",
              "</style>\n",
              "<table border=\"1\" class=\"dataframe\">\n",
              "  <thead>\n",
              "    <tr style=\"text-align: right;\">\n",
              "      <th></th>\n",
              "      <th>postalcode</th>\n",
              "      <th>date</th>\n",
              "      <th>ndailydatapoints</th>\n",
              "      <th>dayofweek</th>\n",
              "      <th>daytype</th>\n",
              "      <th>bluecarstakensum</th>\n",
              "      <th>bluecarsreturnedsum</th>\n",
              "      <th>slotsfreedsum</th>\n",
              "      <th>slotstakensum</th>\n",
              "    </tr>\n",
              "  </thead>\n",
              "  <tbody>\n",
              "    <tr>\n",
              "      <th>0</th>\n",
              "      <td>75001</td>\n",
              "      <td>1/1/2018</td>\n",
              "      <td>1440</td>\n",
              "      <td>0</td>\n",
              "      <td>weekday</td>\n",
              "      <td>110</td>\n",
              "      <td>103</td>\n",
              "      <td>22</td>\n",
              "      <td>20</td>\n",
              "    </tr>\n",
              "    <tr>\n",
              "      <th>1</th>\n",
              "      <td>75001</td>\n",
              "      <td>1/2/2018</td>\n",
              "      <td>1438</td>\n",
              "      <td>1</td>\n",
              "      <td>weekday</td>\n",
              "      <td>98</td>\n",
              "      <td>94</td>\n",
              "      <td>23</td>\n",
              "      <td>22</td>\n",
              "    </tr>\n",
              "    <tr>\n",
              "      <th>2</th>\n",
              "      <td>75001</td>\n",
              "      <td>1/3/2018</td>\n",
              "      <td>1439</td>\n",
              "      <td>2</td>\n",
              "      <td>weekday</td>\n",
              "      <td>138</td>\n",
              "      <td>139</td>\n",
              "      <td>27</td>\n",
              "      <td>27</td>\n",
              "    </tr>\n",
              "    <tr>\n",
              "      <th>3</th>\n",
              "      <td>75001</td>\n",
              "      <td>1/4/2018</td>\n",
              "      <td>1320</td>\n",
              "      <td>3</td>\n",
              "      <td>weekday</td>\n",
              "      <td>104</td>\n",
              "      <td>104</td>\n",
              "      <td>25</td>\n",
              "      <td>21</td>\n",
              "    </tr>\n",
              "    <tr>\n",
              "      <th>4</th>\n",
              "      <td>75001</td>\n",
              "      <td>1/5/2018</td>\n",
              "      <td>1440</td>\n",
              "      <td>4</td>\n",
              "      <td>weekday</td>\n",
              "      <td>114</td>\n",
              "      <td>117</td>\n",
              "      <td>18</td>\n",
              "      <td>20</td>\n",
              "    </tr>\n",
              "  </tbody>\n",
              "</table>\n",
              "</div>\n",
              "      <button class=\"colab-df-convert\" onclick=\"convertToInteractive('df-50f6861f-549f-4fab-ae6f-03316925d30f')\"\n",
              "              title=\"Convert this dataframe to an interactive table.\"\n",
              "              style=\"display:none;\">\n",
              "        \n",
              "  <svg xmlns=\"http://www.w3.org/2000/svg\" height=\"24px\"viewBox=\"0 0 24 24\"\n",
              "       width=\"24px\">\n",
              "    <path d=\"M0 0h24v24H0V0z\" fill=\"none\"/>\n",
              "    <path d=\"M18.56 5.44l.94 2.06.94-2.06 2.06-.94-2.06-.94-.94-2.06-.94 2.06-2.06.94zm-11 1L8.5 8.5l.94-2.06 2.06-.94-2.06-.94L8.5 2.5l-.94 2.06-2.06.94zm10 10l.94 2.06.94-2.06 2.06-.94-2.06-.94-.94-2.06-.94 2.06-2.06.94z\"/><path d=\"M17.41 7.96l-1.37-1.37c-.4-.4-.92-.59-1.43-.59-.52 0-1.04.2-1.43.59L10.3 9.45l-7.72 7.72c-.78.78-.78 2.05 0 2.83L4 21.41c.39.39.9.59 1.41.59.51 0 1.02-.2 1.41-.59l7.78-7.78 2.81-2.81c.8-.78.8-2.07 0-2.86zM5.41 20L4 18.59l7.72-7.72 1.47 1.35L5.41 20z\"/>\n",
              "  </svg>\n",
              "      </button>\n",
              "      \n",
              "  <style>\n",
              "    .colab-df-container {\n",
              "      display:flex;\n",
              "      flex-wrap:wrap;\n",
              "      gap: 12px;\n",
              "    }\n",
              "\n",
              "    .colab-df-convert {\n",
              "      background-color: #E8F0FE;\n",
              "      border: none;\n",
              "      border-radius: 50%;\n",
              "      cursor: pointer;\n",
              "      display: none;\n",
              "      fill: #1967D2;\n",
              "      height: 32px;\n",
              "      padding: 0 0 0 0;\n",
              "      width: 32px;\n",
              "    }\n",
              "\n",
              "    .colab-df-convert:hover {\n",
              "      background-color: #E2EBFA;\n",
              "      box-shadow: 0px 1px 2px rgba(60, 64, 67, 0.3), 0px 1px 3px 1px rgba(60, 64, 67, 0.15);\n",
              "      fill: #174EA6;\n",
              "    }\n",
              "\n",
              "    [theme=dark] .colab-df-convert {\n",
              "      background-color: #3B4455;\n",
              "      fill: #D2E3FC;\n",
              "    }\n",
              "\n",
              "    [theme=dark] .colab-df-convert:hover {\n",
              "      background-color: #434B5C;\n",
              "      box-shadow: 0px 1px 3px 1px rgba(0, 0, 0, 0.15);\n",
              "      filter: drop-shadow(0px 1px 2px rgba(0, 0, 0, 0.3));\n",
              "      fill: #FFFFFF;\n",
              "    }\n",
              "  </style>\n",
              "\n",
              "      <script>\n",
              "        const buttonEl =\n",
              "          document.querySelector('#df-50f6861f-549f-4fab-ae6f-03316925d30f button.colab-df-convert');\n",
              "        buttonEl.style.display =\n",
              "          google.colab.kernel.accessAllowed ? 'block' : 'none';\n",
              "\n",
              "        async function convertToInteractive(key) {\n",
              "          const element = document.querySelector('#df-50f6861f-549f-4fab-ae6f-03316925d30f');\n",
              "          const dataTable =\n",
              "            await google.colab.kernel.invokeFunction('convertToInteractive',\n",
              "                                                     [key], {});\n",
              "          if (!dataTable) return;\n",
              "\n",
              "          const docLinkHtml = 'Like what you see? Visit the ' +\n",
              "            '<a target=\"_blank\" href=https://colab.research.google.com/notebooks/data_table.ipynb>data table notebook</a>'\n",
              "            + ' to learn more about interactive tables.';\n",
              "          element.innerHTML = '';\n",
              "          dataTable['output_type'] = 'display_data';\n",
              "          await google.colab.output.renderOutput(dataTable, element);\n",
              "          const docLink = document.createElement('div');\n",
              "          docLink.innerHTML = docLinkHtml;\n",
              "          element.appendChild(docLink);\n",
              "        }\n",
              "      </script>\n",
              "    </div>\n",
              "  </div>\n",
              "  "
            ]
          },
          "metadata": {},
          "execution_count": 14
        }
      ],
      "source": [
        "## Since were only concerned with the bluecars only, we delete the columns that we dont read\n",
        "autolib_df.drop(['utilibtakensum', 'utilibreturnedsum', 'utilib14takensum','utilib14returnedsum'], axis = 1, inplace = True)\n",
        "\n",
        "# previewing formation after deleting accounts\n",
        "autolib_df.head()"
      ]
    },
    {
      "cell_type": "markdown",
      "source": [
        "# Outliers"
      ],
      "metadata": {
        "id": "bMHyQf5fUENv"
      }
    },
    {
      "cell_type": "code",
      "source": [
        "#Checking for outliers on the bluecarstakensum\n",
        "# Using pandas to create a boxplot\n",
        "# Giving a title to our chart\n",
        "# Displaying our chart\n",
        "\n",
        "plt.figure(dpi = 120)\n",
        "autolib_df.boxplot(['bluecarstakensum'])\n",
        "plt.title(\"A boxplot showing the sum of bluecars taken\", color = 'blue')\n",
        "plt.show()"
      ],
      "metadata": {
        "colab": {
          "base_uri": "https://localhost:8080/",
          "height": 458
        },
        "id": "s4OVoI9GM8s9",
        "outputId": "e738be9c-650f-46f2-823b-4a88d5b0731b"
      },
      "execution_count": null,
      "outputs": [
        {
          "output_type": "display_data",
          "data": {
            "text/plain": [
              "<Figure size 720x480 with 1 Axes>"
            ],
            "image/png": "[encoded data removed]"
          },
          "metadata": {
            "needs_background": "light"
          }
        }
      ]
    },
    {
      "cell_type": "code",
      "source": [
        "#Checking for outliers on the bluecarsreturnedsum\n",
        "# Using pandas to create a boxplot\n",
        "# Giving a title to our chart\n",
        "# Displaying our chart\n",
        "\n",
        "plt.figure(dpi = 120)\n",
        "autolib_df.boxplot(['bluecarsreturnedsum'])\n",
        "plt.title(\"A boxplot showing the sum of bluecars returned\", color = 'blue')\n",
        "plt.show()"
      ],
      "metadata": {
        "colab": {
          "base_uri": "https://localhost:8080/",
          "height": 458
        },
        "id": "eQdHqP_LNpfh",
        "outputId": "e81755da-653c-43e9-d39f-e5035bbc00b9"
      },
      "execution_count": null,
      "outputs": [
        {
          "output_type": "display_data",
          "data": {
            "text/plain": [
              "<Figure size 720x480 with 1 Axes>"
            ],
            "image/png": "[encoded data removed]"
          },
          "metadata": {
            "needs_background": "light"
          }
        }
      ]
    },
    {
      "cell_type": "code",
      "source": [
        "# checking that there are no anomalies in the column\n",
        "\n",
        "autolib_df.nunique()"
      ],
      "metadata": {
        "colab": {
          "base_uri": "https://localhost:8080/"
        },
        "id": "XfETpZYYOAln",
        "outputId": "38fe7fc0-608c-4dbf-a044-66a14203037f"
      },
      "execution_count": null,
      "outputs": [
        {
          "output_type": "execute_result",
          "data": {
            "text/plain": [
              "postalcode             104\n",
              "date                   112\n",
              "ndailydatapoints        20\n",
              "dayofweek                5\n",
              "daytype                  1\n",
              "bluecarstakensum       789\n",
              "bluecarsreturnedsum    781\n",
              "slotsfreedsum          261\n",
              "slotstakensum          263\n",
              "dtype: int64"
            ]
          },
          "metadata": {},
          "execution_count": 64
        }
      ]
    },
    {
      "cell_type": "markdown",
      "source": [
        "# DESCRIPTIVE ANALYSIS"
      ],
      "metadata": {
        "id": "etub-TP7SwKZ"
      }
    },
    {
      "cell_type": "markdown",
      "source": [
        "# Measures of Central Tendency"
      ],
      "metadata": {
        "id": "dhKO1CobS8cf"
      }
    },
    {
      "cell_type": "markdown",
      "source": [
        "Here we shall conduct measures of Central tendancy for both bluecarstakensum and bluecarsreturnedsum"
      ],
      "metadata": {
        "id": "XF0y7SjkTORM"
      }
    },
    {
      "cell_type": "markdown",
      "source": [
        "Mean"
      ],
      "metadata": {
        "id": "JJmHrOvVTfal"
      }
    },
    {
      "cell_type": "code",
      "source": [
        "# Compute the mean of the bluecarstakensum\n",
        "\n",
        "autolib_df.bluecarstakensum.mean()"
      ],
      "metadata": {
        "colab": {
          "base_uri": "https://localhost:8080/"
        },
        "id": "QjeQINlnOvOe",
        "outputId": "96d4a2a3-405d-4136-894f-c92202286378"
      },
      "execution_count": null,
      "outputs": [
        {
          "output_type": "execute_result",
          "data": {
            "text/plain": [
              "116.0286729036729"
            ]
          },
          "metadata": {},
          "execution_count": 18
        }
      ]
    },
    {
      "cell_type": "code",
      "source": [
        "# Compute the mean of the bluecarsreturnedsum\n",
        "\n",
        "autolib_df.bluecarsreturnedsum.mean()"
      ],
      "metadata": {
        "colab": {
          "base_uri": "https://localhost:8080/"
        },
        "id": "3oiASOQsTwBO",
        "outputId": "7c8c7322-677b-4299-f008-4a529ba1b783"
      },
      "execution_count": null,
      "outputs": [
        {
          "output_type": "execute_result",
          "data": {
            "text/plain": [
              "115.63937976437977"
            ]
          },
          "metadata": {},
          "execution_count": 19
        }
      ]
    },
    {
      "cell_type": "markdown",
      "source": [
        "Median"
      ],
      "metadata": {
        "id": "rxK5y-O4fv1n"
      }
    },
    {
      "cell_type": "code",
      "source": [
        "# Compute the median of the bluecarstakensum\n",
        "\n",
        "autolib_df.bluecarstakensum.median()"
      ],
      "metadata": {
        "colab": {
          "base_uri": "https://localhost:8080/"
        },
        "id": "WVBE-2tefx7w",
        "outputId": "18a6b3ba-1286-4a4b-96e2-6540c518033a"
      },
      "execution_count": null,
      "outputs": [
        {
          "output_type": "execute_result",
          "data": {
            "text/plain": [
              "42.0"
            ]
          },
          "metadata": {},
          "execution_count": 20
        }
      ]
    },
    {
      "cell_type": "code",
      "source": [
        "# Compute the median of the bluecarsreturnedsum\n",
        "\n",
        "autolib_df.bluecarsreturnedsum.median()"
      ],
      "metadata": {
        "colab": {
          "base_uri": "https://localhost:8080/"
        },
        "id": "SlFGmt6nf1lI",
        "outputId": "e2bc1147-015f-47c1-9a92-e0ec794a0a35"
      },
      "execution_count": null,
      "outputs": [
        {
          "output_type": "execute_result",
          "data": {
            "text/plain": [
              "42.0"
            ]
          },
          "metadata": {},
          "execution_count": 21
        }
      ]
    },
    {
      "cell_type": "markdown",
      "source": [
        "Mode"
      ],
      "metadata": {
        "id": "GVpEXEBTgDCu"
      }
    },
    {
      "cell_type": "code",
      "source": [
        "# Compute the mode of the bluecarstakensum\n",
        "\n",
        "autolib_df.bluecarstakensum.mode()"
      ],
      "metadata": {
        "colab": {
          "base_uri": "https://localhost:8080/"
        },
        "id": "wp6Rn9rcgJRW",
        "outputId": "3825bb51-97de-444b-dc4c-4c29bdba970c"
      },
      "execution_count": null,
      "outputs": [
        {
          "output_type": "execute_result",
          "data": {
            "text/plain": [
              "0    12\n",
              "dtype: int64"
            ]
          },
          "metadata": {},
          "execution_count": 22
        }
      ]
    },
    {
      "cell_type": "code",
      "source": [
        "# Compute the mode of the bluecarsreturnedsum\n",
        "\n",
        "autolib_df.bluecarsreturnedsum.mode()"
      ],
      "metadata": {
        "colab": {
          "base_uri": "https://localhost:8080/"
        },
        "id": "bQdo1JScgFLJ",
        "outputId": "97e1f0fd-92fc-491b-fcca-99d7e0fe1d72"
      },
      "execution_count": null,
      "outputs": [
        {
          "output_type": "execute_result",
          "data": {
            "text/plain": [
              "0    12\n",
              "dtype: int64"
            ]
          },
          "metadata": {},
          "execution_count": 23
        }
      ]
    },
    {
      "cell_type": "markdown",
      "source": [
        "# Measures of Dispersion/Variability/Spread"
      ],
      "metadata": {
        "id": "oCqf6XWsgVj3"
      }
    },
    {
      "cell_type": "markdown",
      "source": [
        "Standard Deviation, Variance, Kurtosis and Skewness"
      ],
      "metadata": {
        "id": "uyamolvziIxN"
      }
    },
    {
      "cell_type": "code",
      "source": [
        "# Sum of Bluecars taken\n",
        "print(\"The Standard Deviation: \",autolib_df.bluecarstakensum.std())\n",
        "print(\"The Variance: \",autolib_df.bluecarstakensum.var())\n",
        "print(\"The Kurtosis: \",autolib_df.bluecarstakensum.kurt())\n",
        "print(\"The Skewness: \",autolib_df.bluecarstakensum.skew())\n",
        "# \n"
      ],
      "metadata": {
        "colab": {
          "base_uri": "https://localhost:8080/"
        },
        "id": "fuZvc93dg5Jg",
        "outputId": "ef0964d5-a25e-4f9c-841f-03d6d19b572c"
      },
      "execution_count": null,
      "outputs": [
        {
          "output_type": "stream",
          "name": "stdout",
          "text": [
            "The Standard Deviation:  169.62690469970084\n",
            "The Variance:  28773.286798001394\n",
            "The Kurtosis:  5.553808116768028\n",
            "The Skewness:  2.3281979815185876\n"
          ]
        }
      ]
    },
    {
      "cell_type": "markdown",
      "source": [
        "It is clear that the kurtosis is greater than 3 which means that the data has heavier tails than a normal distribution"
      ],
      "metadata": {
        "id": "Pt75sRarg6re"
      }
    },
    {
      "cell_type": "code",
      "source": [
        "# Sum of Bluecars returned\n",
        "print(\"The Standard Deviation: \",autolib_df.bluecarsreturnedsum.std())\n",
        "print(\"The Variance: \",autolib_df.bluecarsreturnedsum.var())\n",
        "print(\"The Kurtosis: \",autolib_df.bluecarsreturnedsum.kurt())\n",
        "print(\"The Skewness: \",autolib_df.bluecarsreturnedsum.skew())\n",
        "# \n"
      ],
      "metadata": {
        "colab": {
          "base_uri": "https://localhost:8080/"
        },
        "id": "ULoI_v4qhZxv",
        "outputId": "57c50afe-5981-45e2-f8d9-bd78c1764534"
      },
      "execution_count": null,
      "outputs": [
        {
          "output_type": "stream",
          "name": "stdout",
          "text": [
            "The Standard Deviation:  168.34475125432746\n",
            "The Variance:  28339.955274881388\n",
            "The Kurtosis:  5.5428632223425325\n",
            "The Skewness:  2.3289726516394973\n"
          ]
        }
      ]
    },
    {
      "cell_type": "markdown",
      "source": [
        "This also displays that the kurtosis is greater than 3 which means that the data has heavier tails than a normal distribution"
      ],
      "metadata": {
        "id": "x9W1qaOnhvYU"
      }
    },
    {
      "cell_type": "markdown",
      "source": [
        "# 3. UNIVARIATE ANALAYSIS"
      ],
      "metadata": {
        "id": "2bGx-OYZiQRC"
      }
    },
    {
      "cell_type": "code",
      "source": [
        "# Converting the day of week from from numericals to strings for plotting\n",
        "# Using the mapping function\n",
        "#\n",
        "autolib_df['dayofweek'] = autolib_df.dayofweek.map({0: 'Monday', 1: \n",
        "                                          'Tuesday', 2: 'Wednesday', 3: 'Thursday', 4: 'Friday'})\n",
        "# Confirming that our dataset day_type columns was successfully converted\n",
        "autolib_df.head()\n",
        "# clearly seen that the days have been coverted"
      ],
      "metadata": {
        "colab": {
          "base_uri": "https://localhost:8080/",
          "height": 270
        },
        "id": "E5i86kr9iwTh",
        "outputId": "9609ad20-3210-4ac0-c723-435e00eb58e2"
      },
      "execution_count": null,
      "outputs": [
        {
          "output_type": "execute_result",
          "data": {
            "text/plain": [
              "   postalcode      date  ndailydatapoints  dayofweek  daytype  \\\n",
              "0       75001  1/1/2018              1440     Monday  weekday   \n",
              "1       75001  1/2/2018              1438    Tuesday  weekday   \n",
              "2       75001  1/3/2018              1439  Wednesday  weekday   \n",
              "3       75001  1/4/2018              1320   Thursday  weekday   \n",
              "4       75001  1/5/2018              1440     Friday  weekday   \n",
              "\n",
              "   bluecarstakensum  bluecarsreturnedsum  slotsfreedsum  slotstakensum  \n",
              "0               110                  103             22             20  \n",
              "1                98                   94             23             22  \n",
              "2               138                  139             27             27  \n",
              "3               104                  104             25             21  \n",
              "4               114                  117             18             20  "
            ],
            "text/html": [
              "\n",
              "  <div id=\"df-e4aefa84-05ad-4fac-8853-1a4b7b91488f\">\n",
              "    <div class=\"colab-df-container\">\n",
              "      <div>\n",
              "<style scoped>\n",
              "    .dataframe tbody tr th:only-of-type {\n",
              "        vertical-align: middle;\n",
              "    }\n",
              "\n",
              "    .dataframe tbody tr th {\n",
              "        vertical-align: top;\n",
              "    }\n",
              "\n",
              "    .dataframe thead th {\n",
              "        text-align: right;\n",
              "    }\n",
              "</style>\n",
              "<table border=\"1\" class=\"dataframe\">\n",
              "  <thead>\n",
              "    <tr style=\"text-align: right;\">\n",
              "      <th></th>\n",
              "      <th>postalcode</th>\n",
              "      <th>date</th>\n",
              "      <th>ndailydatapoints</th>\n",
              "      <th>dayofweek</th>\n",
              "      <th>daytype</th>\n",
              "      <th>bluecarstakensum</th>\n",
              "      <th>bluecarsreturnedsum</th>\n",
              "      <th>slotsfreedsum</th>\n",
              "      <th>slotstakensum</th>\n",
              "    </tr>\n",
              "  </thead>\n",
              "  <tbody>\n",
              "    <tr>\n",
              "      <th>0</th>\n",
              "      <td>75001</td>\n",
              "      <td>1/1/2018</td>\n",
              "      <td>1440</td>\n",
              "      <td>Monday</td>\n",
              "      <td>weekday</td>\n",
              "      <td>110</td>\n",
              "      <td>103</td>\n",
              "      <td>22</td>\n",
              "      <td>20</td>\n",
              "    </tr>\n",
              "    <tr>\n",
              "      <th>1</th>\n",
              "      <td>75001</td>\n",
              "      <td>1/2/2018</td>\n",
              "      <td>1438</td>\n",
              "      <td>Tuesday</td>\n",
              "      <td>weekday</td>\n",
              "      <td>98</td>\n",
              "      <td>94</td>\n",
              "      <td>23</td>\n",
              "      <td>22</td>\n",
              "    </tr>\n",
              "    <tr>\n",
              "      <th>2</th>\n",
              "      <td>75001</td>\n",
              "      <td>1/3/2018</td>\n",
              "      <td>1439</td>\n",
              "      <td>Wednesday</td>\n",
              "      <td>weekday</td>\n",
              "      <td>138</td>\n",
              "      <td>139</td>\n",
              "      <td>27</td>\n",
              "      <td>27</td>\n",
              "    </tr>\n",
              "    <tr>\n",
              "      <th>3</th>\n",
              "      <td>75001</td>\n",
              "      <td>1/4/2018</td>\n",
              "      <td>1320</td>\n",
              "      <td>Thursday</td>\n",
              "      <td>weekday</td>\n",
              "      <td>104</td>\n",
              "      <td>104</td>\n",
              "      <td>25</td>\n",
              "      <td>21</td>\n",
              "    </tr>\n",
              "    <tr>\n",
              "      <th>4</th>\n",
              "      <td>75001</td>\n",
              "      <td>1/5/2018</td>\n",
              "      <td>1440</td>\n",
              "      <td>Friday</td>\n",
              "      <td>weekday</td>\n",
              "      <td>114</td>\n",
              "      <td>117</td>\n",
              "      <td>18</td>\n",
              "      <td>20</td>\n",
              "    </tr>\n",
              "  </tbody>\n",
              "</table>\n",
              "</div>\n",
              "      <button class=\"colab-df-convert\" onclick=\"convertToInteractive('df-e4aefa84-05ad-4fac-8853-1a4b7b91488f')\"\n",
              "              title=\"Convert this dataframe to an interactive table.\"\n",
              "              style=\"display:none;\">\n",
              "        \n",
              "  <svg xmlns=\"http://www.w3.org/2000/svg\" height=\"24px\"viewBox=\"0 0 24 24\"\n",
              "       width=\"24px\">\n",
              "    <path d=\"M0 0h24v24H0V0z\" fill=\"none\"/>\n",
              "    <path d=\"M18.56 5.44l.94 2.06.94-2.06 2.06-.94-2.06-.94-.94-2.06-.94 2.06-2.06.94zm-11 1L8.5 8.5l.94-2.06 2.06-.94-2.06-.94L8.5 2.5l-.94 2.06-2.06.94zm10 10l.94 2.06.94-2.06 2.06-.94-2.06-.94-.94-2.06-.94 2.06-2.06.94z\"/><path d=\"M17.41 7.96l-1.37-1.37c-.4-.4-.92-.59-1.43-.59-.52 0-1.04.2-1.43.59L10.3 9.45l-7.72 7.72c-.78.78-.78 2.05 0 2.83L4 21.41c.39.39.9.59 1.41.59.51 0 1.02-.2 1.41-.59l7.78-7.78 2.81-2.81c.8-.78.8-2.07 0-2.86zM5.41 20L4 18.59l7.72-7.72 1.47 1.35L5.41 20z\"/>\n",
              "  </svg>\n",
              "      </button>\n",
              "      \n",
              "  <style>\n",
              "    .colab-df-container {\n",
              "      display:flex;\n",
              "      flex-wrap:wrap;\n",
              "      gap: 12px;\n",
              "    }\n",
              "\n",
              "    .colab-df-convert {\n",
              "      background-color: #E8F0FE;\n",
              "      border: none;\n",
              "      border-radius: 50%;\n",
              "      cursor: pointer;\n",
              "      display: none;\n",
              "      fill: #1967D2;\n",
              "      height: 32px;\n",
              "      padding: 0 0 0 0;\n",
              "      width: 32px;\n",
              "    }\n",
              "\n",
              "    .colab-df-convert:hover {\n",
              "      background-color: #E2EBFA;\n",
              "      box-shadow: 0px 1px 2px rgba(60, 64, 67, 0.3), 0px 1px 3px 1px rgba(60, 64, 67, 0.15);\n",
              "      fill: #174EA6;\n",
              "    }\n",
              "\n",
              "    [theme=dark] .colab-df-convert {\n",
              "      background-color: #3B4455;\n",
              "      fill: #D2E3FC;\n",
              "    }\n",
              "\n",
              "    [theme=dark] .colab-df-convert:hover {\n",
              "      background-color: #434B5C;\n",
              "      box-shadow: 0px 1px 3px 1px rgba(0, 0, 0, 0.15);\n",
              "      filter: drop-shadow(0px 1px 2px rgba(0, 0, 0, 0.3));\n",
              "      fill: #FFFFFF;\n",
              "    }\n",
              "  </style>\n",
              "\n",
              "      <script>\n",
              "        const buttonEl =\n",
              "          document.querySelector('#df-e4aefa84-05ad-4fac-8853-1a4b7b91488f button.colab-df-convert');\n",
              "        buttonEl.style.display =\n",
              "          google.colab.kernel.accessAllowed ? 'block' : 'none';\n",
              "\n",
              "        async function convertToInteractive(key) {\n",
              "          const element = document.querySelector('#df-e4aefa84-05ad-4fac-8853-1a4b7b91488f');\n",
              "          const dataTable =\n",
              "            await google.colab.kernel.invokeFunction('convertToInteractive',\n",
              "                                                     [key], {});\n",
              "          if (!dataTable) return;\n",
              "\n",
              "          const docLinkHtml = 'Like what you see? Visit the ' +\n",
              "            '<a target=\"_blank\" href=https://colab.research.google.com/notebooks/data_table.ipynb>data table notebook</a>'\n",
              "            + ' to learn more about interactive tables.';\n",
              "          element.innerHTML = '';\n",
              "          dataTable['output_type'] = 'display_data';\n",
              "          await google.colab.output.renderOutput(dataTable, element);\n",
              "          const docLink = document.createElement('div');\n",
              "          docLink.innerHTML = docLinkHtml;\n",
              "          element.appendChild(docLink);\n",
              "        }\n",
              "      </script>\n",
              "    </div>\n",
              "  </div>\n",
              "  "
            ]
          },
          "metadata": {},
          "execution_count": 26
        }
      ]
    },
    {
      "cell_type": "code",
      "source": [
        "# Plotting a bar plot of the day of week categories \n",
        "# using a copy of the dataset\n",
        "# df = autolib_iqr\n",
        "# \n",
        "day = autolib_df.dayofweek.value_counts()\n",
        "day\n",
        "# accessing the data to plot\n",
        "# labels\n",
        "sizes= day.index\n",
        "sizes\n",
        "\n",
        "# values\n",
        "data = day.values\n",
        "data\n",
        "\n",
        "plt.figure(figsize = (5,5), dpi = 120)\n",
        "plt.bar(sizes, data, color = 'magenta')\n",
        "plt.ylabel(\"Frequency\")\n",
        "plt.xlabel('Days of the week')\n",
        "plt.title(\"A Bar chart showing Days of the week\", color = 'black')\n",
        "plt.show()\n"
      ],
      "metadata": {
        "colab": {
          "base_uri": "https://localhost:8080/",
          "height": 573
        },
        "id": "vzuLom4Xi9AD",
        "outputId": "6eddbddf-aa77-4dd7-a50c-a34c99897515"
      },
      "execution_count": null,
      "outputs": [
        {
          "output_type": "display_data",
          "data": {
            "text/plain": [
              "<Figure size 600x600 with 1 Axes>"
            ],
            "image/png": "[encoded data removed]"
          },
          "metadata": {
            "needs_background": "light"
          }
        }
      ]
    },
    {
      "cell_type": "markdown",
      "source": [
        "The output displays that Monday and tuesday are top in business and decrease as the week goes on"
      ],
      "metadata": {
        "id": "oEPmon41jFPG"
      }
    },
    {
      "cell_type": "code",
      "source": [
        "# Visualize the bluecarstakensum \n",
        "# \n",
        "plt.figure(dpi = 120)\n",
        "sns.boxplot(autolib_df['bluecarstakensum'],showmeans = True)\n",
        "# \n"
      ],
      "metadata": {
        "colab": {
          "base_uri": "https://localhost:8080/",
          "height": 474
        },
        "id": "jAb1a621j1Cr",
        "outputId": "802bbe4b-761f-4a16-8735-28437c5911ac"
      },
      "execution_count": null,
      "outputs": [
        {
          "output_type": "execute_result",
          "data": {
            "text/plain": [
              "<matplotlib.axes._subplots.AxesSubplot at 0x7ff24e6b5750>"
            ]
          },
          "metadata": {},
          "execution_count": 28
        },
        {
          "output_type": "display_data",
          "data": {
            "text/plain": [
              "<Figure size 720x480 with 1 Axes>"
            ],
            "image/png": "[encoded data removed]"
          },
          "metadata": {
            "needs_background": "light"
          }
        }
      ]
    },
    {
      "cell_type": "markdown",
      "source": [
        "The boxplot displays a couple of outliers in the dataset, which we use  Inter Quartile Range(IQR) method to confirm"
      ],
      "metadata": {
        "id": "px-K-yIYmcFG"
      }
    },
    {
      "cell_type": "code",
      "source": [
        "# checking for outliers using the IQR range\n",
        "# \n",
        "Q1 = autolib_df.bluecarstakensum.quantile(0.25)\n",
        "Q3 = autolib_df.bluecarstakensum.quantile(0.75)\n",
        "\n",
        "IQR = Q3 - Q1\n",
        "\n",
        "outliers = ((autolib_df.bluecarstakensum < Q1 - 1.5 * IQR) | (autolib_df.bluecarstakensum > Q3 + 1.5 * IQR))\n",
        "outliers.value_counts()\n"
      ],
      "metadata": {
        "colab": {
          "base_uri": "https://localhost:8080/"
        },
        "id": "7FULGVyJlP8O",
        "outputId": "cf841d6c-7e80-4b4f-df5b-d0c507449e53"
      },
      "execution_count": null,
      "outputs": [
        {
          "output_type": "execute_result",
          "data": {
            "text/plain": [
              "False    9958\n",
              "True     1586\n",
              "Name: bluecarstakensum, dtype: int64"
            ]
          },
          "metadata": {},
          "execution_count": 29
        }
      ]
    },
    {
      "cell_type": "markdown",
      "source": [
        "We observe that there are 1586 outliers but we choose not to delete the outliers because it would result in an inconclusive outcome if the outliers are actually removed since they can actually be viable entries"
      ],
      "metadata": {
        "id": "NXDtOzX5mBIR"
      }
    },
    {
      "cell_type": "code",
      "source": [
        "# Plotting a histogram to view te total sum of cars taken\n",
        "# \n",
        "\n",
        "plt.figure(dpi = 120)\n",
        "sns.distplot(autolib_df.bluecarstakensum, kde = True)\n"
      ],
      "metadata": {
        "colab": {
          "base_uri": "https://localhost:8080/",
          "height": 478
        },
        "id": "m0wpIcBElVyf",
        "outputId": "7747b5cb-c089-4231-a455-f97d2fe5e75b"
      },
      "execution_count": null,
      "outputs": [
        {
          "output_type": "execute_result",
          "data": {
            "text/plain": [
              "<matplotlib.axes._subplots.AxesSubplot at 0x7ff24e644e10>"
            ]
          },
          "metadata": {},
          "execution_count": 30
        },
        {
          "output_type": "display_data",
          "data": {
            "text/plain": [
              "<Figure size 720x480 with 1 Axes>"
            ],
            "image/png": "[encoded data removed]"
          },
          "metadata": {
            "needs_background": "light"
          }
        }
      ]
    },
    {
      "cell_type": "markdown",
      "source": [
        "We see that te curve is not nromally distributed but it is skewed to the right side of the curve. In this case, most data is concentrated towards the tail side"
      ],
      "metadata": {
        "id": "lwYsjhbMlykG"
      }
    },
    {
      "cell_type": "code",
      "source": [
        "# We also visualize the blue cars returned sum column\n",
        "# \n",
        "\n",
        "plt.figure(dpi = 120)\n",
        "sns.boxplot(autolib_df['bluecarsreturnedsum'],showmeans = True)"
      ],
      "metadata": {
        "colab": {
          "base_uri": "https://localhost:8080/",
          "height": 474
        },
        "id": "xPu54SppluSP",
        "outputId": "a13c8b15-e41f-4e19-e7c5-b6cd8ce65dfb"
      },
      "execution_count": null,
      "outputs": [
        {
          "output_type": "execute_result",
          "data": {
            "text/plain": [
              "<matplotlib.axes._subplots.AxesSubplot at 0x7ff249cf2390>"
            ]
          },
          "metadata": {},
          "execution_count": 31
        },
        {
          "output_type": "display_data",
          "data": {
            "text/plain": [
              "<Figure size 720x480 with 1 Axes>"
            ],
            "image/png": "[encoded data removed]"
          },
          "metadata": {
            "needs_background": "light"
          }
        }
      ]
    },
    {
      "cell_type": "markdown",
      "source": [
        "It displays that there are outliers which we use IQR to confirm"
      ],
      "metadata": {
        "id": "z6X3AoLTmzfa"
      }
    },
    {
      "cell_type": "code",
      "source": [
        "# performing the inter quartlie range to check for outliers\n",
        "# \n",
        "Q1 = autolib_df.bluecarsreturnedsum.quantile(0.25)\n",
        "Q3 = autolib_df.bluecarsreturnedsum.quantile(0.75)\n",
        "\n",
        "IQR = Q3 - Q1\n",
        "\n",
        "outliers = ((autolib_df.bluecarsreturnedsum < Q1 - 1.5 * IQR) | (autolib_df.bluecarsreturnedsum > Q3 + 1.5 * IQR))\n",
        "outliers.value_counts()"
      ],
      "metadata": {
        "colab": {
          "base_uri": "https://localhost:8080/"
        },
        "id": "XNCzFeNRnMwP",
        "outputId": "354a37dc-8ec2-48bd-bfd4-b40effc77eca"
      },
      "execution_count": null,
      "outputs": [
        {
          "output_type": "execute_result",
          "data": {
            "text/plain": [
              "False    9952\n",
              "True     1592\n",
              "Name: bluecarsreturnedsum, dtype: int64"
            ]
          },
          "metadata": {},
          "execution_count": 32
        }
      ]
    },
    {
      "cell_type": "code",
      "source": [
        "# Historgram on the sum of blue cars returned\n",
        "# \n",
        "\n",
        "plt.figure(dpi = 120)\n",
        "sns.distplot(autolib_df.bluecarsreturnedsum, kde = True)"
      ],
      "metadata": {
        "colab": {
          "base_uri": "https://localhost:8080/",
          "height": 478
        },
        "id": "xqf5pza9oN3D",
        "outputId": "3db0b39c-6105-4601-990e-15f8f4b0f9a0"
      },
      "execution_count": null,
      "outputs": [
        {
          "output_type": "execute_result",
          "data": {
            "text/plain": [
              "<matplotlib.axes._subplots.AxesSubplot at 0x7ff249c6a250>"
            ]
          },
          "metadata": {},
          "execution_count": 33
        },
        {
          "output_type": "display_data",
          "data": {
            "text/plain": [
              "<Figure size 720x480 with 1 Axes>"
            ],
            "image/png": "[encoded data removed]"
          },
          "metadata": {
            "needs_background": "light"
          }
        }
      ]
    },
    {
      "cell_type": "markdown",
      "source": [
        "The output for the sum of bluecars returned shows that data is not normally distributed and hence it has a right tail where data is more concentrated as you move \n",
        "to the right side of the tail"
      ],
      "metadata": {
        "id": "WnqAh0aCov33"
      }
    },
    {
      "cell_type": "markdown",
      "source": [
        "# Recommendations based on the Univariate Analysis\n",
        "\n",
        "The taken_sum columns and the returned_sum columns seem to be very similar.\n",
        "\n",
        "The Kurtosis of the numerical data columns show that the distribution of the data is heavy-tailed and in most cases, is not normally distributed.\n",
        "\n",
        "Outliers are viable entries and should not be dropped."
      ],
      "metadata": {
        "id": "d6dVcMP4Fo24"
      }
    },
    {
      "cell_type": "markdown",
      "source": [
        "# BIVARIATE ANALYSIS"
      ],
      "metadata": {
        "id": "DBPf4VxGo91i"
      }
    },
    {
      "cell_type": "code",
      "source": [
        "# Here we plot a scatterplot to visualize the 2 numerical variables\n",
        "\n",
        "plt.figure(dpi = 120)\n",
        "plt.scatter(autolib_df['bluecarstakensum'], autolib_df['bluecarsreturnedsum'], color = 'brown')\n",
        "plt.title('A scatter plot of Bluecars returned vs Bluecars taken', color = 'black')\n",
        "plt.xlabel('Sum of bluecarstaken')\n",
        "plt.ylabel('Sum of bluecarsreturned')\n",
        "plt.show()\n",
        "# \n"
      ],
      "metadata": {
        "colab": {
          "base_uri": "https://localhost:8080/",
          "height": 482
        },
        "id": "ods-UoTJpMxZ",
        "outputId": "88d3f2c2-51d5-495e-9b91-7f63b051018d"
      },
      "execution_count": null,
      "outputs": [
        {
          "output_type": "display_data",
          "data": {
            "text/plain": [
              "<Figure size 720x480 with 1 Axes>"
            ],
            "image/png": "[encoded data removed]"
          },
          "metadata": {
            "needs_background": "light"
          }
        }
      ]
    },
    {
      "cell_type": "markdown",
      "source": [
        "From the plot, we can see that there is a high linear colinearity between the sum of the bluecars taken and the bluecars returned."
      ],
      "metadata": {
        "id": "ZUv4XDW-pOY5"
      }
    },
    {
      "cell_type": "code",
      "source": [
        "# defining our data\n",
        "\n",
        "x = autolib_df.corr()\n",
        "# specify the figure size\n",
        "\n",
        "plt.figure(figsize = (5,5), dpi = 120)\n",
        "# using the Seaborn library\n",
        "sns.heatmap(x, xticklabels = x.columns, yticklabels=x.columns, annot = True)\n",
        "\n",
        "# Rotating our x and y axis ticks\n",
        "\n",
        "plt.xticks(rotation = 45)\n",
        "plt.yticks(rotation = 45)\n",
        "\n",
        "# labelling the title\n",
        "\n",
        "plt.title('A Heatmap of the Numerical Columns in our Dataframe', color = \"blue\")\n",
        "\n",
        "# displaying our chart\n",
        "\n",
        "plt.show()\n",
        "  "
      ],
      "metadata": {
        "colab": {
          "base_uri": "https://localhost:8080/",
          "height": 669
        },
        "id": "M3cT6Jp-tDFO",
        "outputId": "32a77fab-161e-4356-c451-1a5a63a8682e"
      },
      "execution_count": null,
      "outputs": [
        {
          "output_type": "display_data",
          "data": {
            "text/plain": [
              "<Figure size 600x600 with 2 Axes>"
            ],
            "image/png": "[encoded data removed]"
          },
          "metadata": {
            "needs_background": "light"
          }
        }
      ]
    },
    {
      "cell_type": "markdown",
      "source": [
        "There is a high correlation between the numerical variables in the dataset"
      ],
      "metadata": {
        "id": "Xi0b0M61rm99"
      }
    },
    {
      "cell_type": "markdown",
      "source": [
        "# 4. TEST STATISTICS"
      ],
      "metadata": {
        "id": "T9XAXUOCuLWT"
      }
    },
    {
      "cell_type": "markdown",
      "source": [
        "\n",
        "Hypothesis testing (using a z-score).\n",
        "\n",
        "A sample of 1000 values from each postal area has been used. A 95% confidence level has also been used to test the hypothesis.\n",
        "\n",
        "Null Hypothesis: The number of Bluecars taken from postal code 75015 is the same as in postal code 75017 during weekdays\n",
        "\n",
        "μ1=μ2\n",
        "\n",
        "Alternative Hypothesis: The number of Bluecars taken from postal code 75015 is not the same as in postal code 75017 during weekdays\n",
        "\n",
        "μ1≠μ2\n"
      ],
      "metadata": {
        "id": "ZxzbUs3quR-P"
      }
    },
    {
      "cell_type": "markdown",
      "source": [
        "# 5. Sampling"
      ],
      "metadata": {
        "id": "eLRm1OWruvft"
      }
    },
    {
      "cell_type": "markdown",
      "source": [
        "I chose to use Simple Random Sampling.\n",
        "\n",
        "This is because Simple Random sampling are the best method of selecting your sample from the population of interest.\n",
        "\n",
        "The advantages are that your sample represents the target population and eliminates sampling biasness."
      ],
      "metadata": {
        "id": "QAiSqZTAu2Ks"
      }
    },
    {
      "cell_type": "code",
      "source": [
        "# Taking a sample from the autolib dataset through Simple Random Sampling;\n",
        "# \n",
        "autolib_df_sample = autolib_df.sample(n=1000,replace='False')\n",
        "print(autolib_df_sample)"
      ],
      "metadata": {
        "colab": {
          "base_uri": "https://localhost:8080/"
        },
        "id": "DBr73RThuKir",
        "outputId": "d9935446-1c3a-4297-ab75-ed68bb440fdc"
      },
      "execution_count": null,
      "outputs": [
        {
          "output_type": "stream",
          "name": "stdout",
          "text": [
            "       postalcode       date  ndailydatapoints  dayofweek  daytype  \\\n",
            "11840       93370   2/8/2018              1438   Thursday  weekday   \n",
            "9834        92800  1/24/2018              1434  Wednesday  weekday   \n",
            "15060       94450  3/12/2018              1440     Monday  weekday   \n",
            "10308       93130  1/30/2018              1440    Tuesday  weekday   \n",
            "9619        92600   5/4/2018              1435     Friday  weekday   \n",
            "...           ...        ...               ...        ...      ...   \n",
            "6882        92260  1/22/2018              1440     Monday  weekday   \n",
            "12112       93400  3/21/2018              1440  Wednesday  weekday   \n",
            "10186       93110   3/8/2018              1439   Thursday  weekday   \n",
            "6903        92260  2/12/2018              1440     Monday  weekday   \n",
            "730         75005  4/20/2018              1417     Friday  weekday   \n",
            "\n",
            "       bluecarstakensum  bluecarsreturnedsum  slotsfreedsum  slotstakensum  \n",
            "11840                 0                    1              0              0  \n",
            "9834                 85                   90              9              9  \n",
            "15060                20                   16              0              0  \n",
            "10308                16                   17              0              0  \n",
            "9619                180                  165              0              0  \n",
            "...                 ...                  ...            ...            ...  \n",
            "6882                 29                   31              0              0  \n",
            "12112                92                  109              0              0  \n",
            "10186                18                   19              0              0  \n",
            "6903                 35                   33              0              0  \n",
            "730                 306                  314             76             78  \n",
            "\n",
            "[1000 rows x 9 columns]\n"
          ]
        }
      ]
    },
    {
      "cell_type": "code",
      "source": [
        "# To understand the mean of the blue cars from our sample,\n",
        "print(autolib_df_sample.bluecarstakensum.mean())\n",
        "# "
      ],
      "metadata": {
        "colab": {
          "base_uri": "https://localhost:8080/"
        },
        "id": "vYqN0GBzw4_4",
        "outputId": "053148b5-d31a-4fb0-df3a-9bbb7375b9d0"
      },
      "execution_count": null,
      "outputs": [
        {
          "output_type": "stream",
          "name": "stdout",
          "text": [
            "117.38\n"
          ]
        }
      ]
    },
    {
      "cell_type": "markdown",
      "source": [
        "There is a change in the mean compared to the previous mean of the whole dataset which was 116.0286729036729"
      ],
      "metadata": {
        "id": "mKvY2qzRxIo-"
      }
    },
    {
      "cell_type": "code",
      "source": [
        "# getting the standard deviation of the blue cars taken sum\n",
        "# \n",
        "autolib_df_sample.bluecarstakensum.std()"
      ],
      "metadata": {
        "colab": {
          "base_uri": "https://localhost:8080/"
        },
        "id": "hkH2bYgpzfXQ",
        "outputId": "c6c903ad-02f7-452a-abca-590ad7ab8fe2"
      },
      "execution_count": null,
      "outputs": [
        {
          "output_type": "execute_result",
          "data": {
            "text/plain": [
              "169.4034684861414"
            ]
          },
          "metadata": {},
          "execution_count": 51
        }
      ]
    },
    {
      "cell_type": "code",
      "source": [
        "# Getting data from our desired postal codes, starting with 75015\n",
        "# \n",
        "df_75015 =autolib_df_sample[(autolib_df_sample.postalcode == 75015)]\n",
        "df_75015.head()"
      ],
      "metadata": {
        "colab": {
          "base_uri": "https://localhost:8080/",
          "height": 270
        },
        "id": "NymDNgF6zsX_",
        "outputId": "8612879b-e78e-4d2b-b596-f3789491accd"
      },
      "execution_count": null,
      "outputs": [
        {
          "output_type": "execute_result",
          "data": {
            "text/plain": [
              "      postalcode       date  ndailydatapoints  dayofweek  daytype  \\\n",
              "2241       75015   3/2/2018              1440     Friday  weekday   \n",
              "2239       75015  2/28/2018              1429  Wednesday  weekday   \n",
              "2254       75015  3/15/2018              1440   Thursday  weekday   \n",
              "2289       75015  4/19/2018              1203   Thursday  weekday   \n",
              "2326       75015   6/6/2018              1440  Wednesday  weekday   \n",
              "\n",
              "      bluecarstakensum  bluecarsreturnedsum  slotsfreedsum  slotstakensum  \n",
              "2241               897                  860            253            255  \n",
              "2239               723                  696            182            185  \n",
              "2254               818                  770            248            231  \n",
              "2289               712                  736            183            181  \n",
              "2326              1032                 1010            264            262  "
            ],
            "text/html": [
              "\n",
              "  <div id=\"df-78ce1bf9-b8cd-4d8b-8f47-17d57b84bff1\">\n",
              "    <div class=\"colab-df-container\">\n",
              "      <div>\n",
              "<style scoped>\n",
              "    .dataframe tbody tr th:only-of-type {\n",
              "        vertical-align: middle;\n",
              "    }\n",
              "\n",
              "    .dataframe tbody tr th {\n",
              "        vertical-align: top;\n",
              "    }\n",
              "\n",
              "    .dataframe thead th {\n",
              "        text-align: right;\n",
              "    }\n",
              "</style>\n",
              "<table border=\"1\" class=\"dataframe\">\n",
              "  <thead>\n",
              "    <tr style=\"text-align: right;\">\n",
              "      <th></th>\n",
              "      <th>postalcode</th>\n",
              "      <th>date</th>\n",
              "      <th>ndailydatapoints</th>\n",
              "      <th>dayofweek</th>\n",
              "      <th>daytype</th>\n",
              "      <th>bluecarstakensum</th>\n",
              "      <th>bluecarsreturnedsum</th>\n",
              "      <th>slotsfreedsum</th>\n",
              "      <th>slotstakensum</th>\n",
              "    </tr>\n",
              "  </thead>\n",
              "  <tbody>\n",
              "    <tr>\n",
              "      <th>2241</th>\n",
              "      <td>75015</td>\n",
              "      <td>3/2/2018</td>\n",
              "      <td>1440</td>\n",
              "      <td>Friday</td>\n",
              "      <td>weekday</td>\n",
              "      <td>897</td>\n",
              "      <td>860</td>\n",
              "      <td>253</td>\n",
              "      <td>255</td>\n",
              "    </tr>\n",
              "    <tr>\n",
              "      <th>2239</th>\n",
              "      <td>75015</td>\n",
              "      <td>2/28/2018</td>\n",
              "      <td>1429</td>\n",
              "      <td>Wednesday</td>\n",
              "      <td>weekday</td>\n",
              "      <td>723</td>\n",
              "      <td>696</td>\n",
              "      <td>182</td>\n",
              "      <td>185</td>\n",
              "    </tr>\n",
              "    <tr>\n",
              "      <th>2254</th>\n",
              "      <td>75015</td>\n",
              "      <td>3/15/2018</td>\n",
              "      <td>1440</td>\n",
              "      <td>Thursday</td>\n",
              "      <td>weekday</td>\n",
              "      <td>818</td>\n",
              "      <td>770</td>\n",
              "      <td>248</td>\n",
              "      <td>231</td>\n",
              "    </tr>\n",
              "    <tr>\n",
              "      <th>2289</th>\n",
              "      <td>75015</td>\n",
              "      <td>4/19/2018</td>\n",
              "      <td>1203</td>\n",
              "      <td>Thursday</td>\n",
              "      <td>weekday</td>\n",
              "      <td>712</td>\n",
              "      <td>736</td>\n",
              "      <td>183</td>\n",
              "      <td>181</td>\n",
              "    </tr>\n",
              "    <tr>\n",
              "      <th>2326</th>\n",
              "      <td>75015</td>\n",
              "      <td>6/6/2018</td>\n",
              "      <td>1440</td>\n",
              "      <td>Wednesday</td>\n",
              "      <td>weekday</td>\n",
              "      <td>1032</td>\n",
              "      <td>1010</td>\n",
              "      <td>264</td>\n",
              "      <td>262</td>\n",
              "    </tr>\n",
              "  </tbody>\n",
              "</table>\n",
              "</div>\n",
              "      <button class=\"colab-df-convert\" onclick=\"convertToInteractive('df-78ce1bf9-b8cd-4d8b-8f47-17d57b84bff1')\"\n",
              "              title=\"Convert this dataframe to an interactive table.\"\n",
              "              style=\"display:none;\">\n",
              "        \n",
              "  <svg xmlns=\"http://www.w3.org/2000/svg\" height=\"24px\"viewBox=\"0 0 24 24\"\n",
              "       width=\"24px\">\n",
              "    <path d=\"M0 0h24v24H0V0z\" fill=\"none\"/>\n",
              "    <path d=\"M18.56 5.44l.94 2.06.94-2.06 2.06-.94-2.06-.94-.94-2.06-.94 2.06-2.06.94zm-11 1L8.5 8.5l.94-2.06 2.06-.94-2.06-.94L8.5 2.5l-.94 2.06-2.06.94zm10 10l.94 2.06.94-2.06 2.06-.94-2.06-.94-.94-2.06-.94 2.06-2.06.94z\"/><path d=\"M17.41 7.96l-1.37-1.37c-.4-.4-.92-.59-1.43-.59-.52 0-1.04.2-1.43.59L10.3 9.45l-7.72 7.72c-.78.78-.78 2.05 0 2.83L4 21.41c.39.39.9.59 1.41.59.51 0 1.02-.2 1.41-.59l7.78-7.78 2.81-2.81c.8-.78.8-2.07 0-2.86zM5.41 20L4 18.59l7.72-7.72 1.47 1.35L5.41 20z\"/>\n",
              "  </svg>\n",
              "      </button>\n",
              "      \n",
              "  <style>\n",
              "    .colab-df-container {\n",
              "      display:flex;\n",
              "      flex-wrap:wrap;\n",
              "      gap: 12px;\n",
              "    }\n",
              "\n",
              "    .colab-df-convert {\n",
              "      background-color: #E8F0FE;\n",
              "      border: none;\n",
              "      border-radius: 50%;\n",
              "      cursor: pointer;\n",
              "      display: none;\n",
              "      fill: #1967D2;\n",
              "      height: 32px;\n",
              "      padding: 0 0 0 0;\n",
              "      width: 32px;\n",
              "    }\n",
              "\n",
              "    .colab-df-convert:hover {\n",
              "      background-color: #E2EBFA;\n",
              "      box-shadow: 0px 1px 2px rgba(60, 64, 67, 0.3), 0px 1px 3px 1px rgba(60, 64, 67, 0.15);\n",
              "      fill: #174EA6;\n",
              "    }\n",
              "\n",
              "    [theme=dark] .colab-df-convert {\n",
              "      background-color: #3B4455;\n",
              "      fill: #D2E3FC;\n",
              "    }\n",
              "\n",
              "    [theme=dark] .colab-df-convert:hover {\n",
              "      background-color: #434B5C;\n",
              "      box-shadow: 0px 1px 3px 1px rgba(0, 0, 0, 0.15);\n",
              "      filter: drop-shadow(0px 1px 2px rgba(0, 0, 0, 0.3));\n",
              "      fill: #FFFFFF;\n",
              "    }\n",
              "  </style>\n",
              "\n",
              "      <script>\n",
              "        const buttonEl =\n",
              "          document.querySelector('#df-78ce1bf9-b8cd-4d8b-8f47-17d57b84bff1 button.colab-df-convert');\n",
              "        buttonEl.style.display =\n",
              "          google.colab.kernel.accessAllowed ? 'block' : 'none';\n",
              "\n",
              "        async function convertToInteractive(key) {\n",
              "          const element = document.querySelector('#df-78ce1bf9-b8cd-4d8b-8f47-17d57b84bff1');\n",
              "          const dataTable =\n",
              "            await google.colab.kernel.invokeFunction('convertToInteractive',\n",
              "                                                     [key], {});\n",
              "          if (!dataTable) return;\n",
              "\n",
              "          const docLinkHtml = 'Like what you see? Visit the ' +\n",
              "            '<a target=\"_blank\" href=https://colab.research.google.com/notebooks/data_table.ipynb>data table notebook</a>'\n",
              "            + ' to learn more about interactive tables.';\n",
              "          element.innerHTML = '';\n",
              "          dataTable['output_type'] = 'display_data';\n",
              "          await google.colab.output.renderOutput(dataTable, element);\n",
              "          const docLink = document.createElement('div');\n",
              "          docLink.innerHTML = docLinkHtml;\n",
              "          element.appendChild(docLink);\n",
              "        }\n",
              "      </script>\n",
              "    </div>\n",
              "  </div>\n",
              "  "
            ]
          },
          "metadata": {},
          "execution_count": 52
        }
      ]
    },
    {
      "cell_type": "code",
      "source": [
        "# Getting data from our desired postal codes, starting with 75017\n",
        "# \n",
        "df_75017 = autolib_df_sample[(autolib_df_sample.postalcode == 75017)]\n",
        "df_75017.head()"
      ],
      "metadata": {
        "colab": {
          "base_uri": "https://localhost:8080/",
          "height": 270
        },
        "id": "fg_0u8zFz3ke",
        "outputId": "48a8950c-0eca-46a3-e586-8d9f64c66898"
      },
      "execution_count": null,
      "outputs": [
        {
          "output_type": "execute_result",
          "data": {
            "text/plain": [
              "      postalcode       date  ndailydatapoints  dayofweek  daytype  \\\n",
              "2636       75017   6/4/2018              1440     Monday  weekday   \n",
              "2558       75017   3/7/2018              1440  Wednesday  weekday   \n",
              "2511       75017  1/16/2018              1440    Tuesday  weekday   \n",
              "2637       75017   6/5/2018              1439    Tuesday  weekday   \n",
              "2644       75017  6/12/2018              1439    Tuesday  weekday   \n",
              "\n",
              "      bluecarstakensum  bluecarsreturnedsum  slotsfreedsum  slotstakensum  \n",
              "2636               707                  707            163            161  \n",
              "2558               741                  733            196            200  \n",
              "2511               702                  676            163            159  \n",
              "2637               744                  712            217            204  \n",
              "2644               755                  763            212            213  "
            ],
            "text/html": [
              "\n",
              "  <div id=\"df-1a621699-4622-42f5-9227-59626f1a44a2\">\n",
              "    <div class=\"colab-df-container\">\n",
              "      <div>\n",
              "<style scoped>\n",
              "    .dataframe tbody tr th:only-of-type {\n",
              "        vertical-align: middle;\n",
              "    }\n",
              "\n",
              "    .dataframe tbody tr th {\n",
              "        vertical-align: top;\n",
              "    }\n",
              "\n",
              "    .dataframe thead th {\n",
              "        text-align: right;\n",
              "    }\n",
              "</style>\n",
              "<table border=\"1\" class=\"dataframe\">\n",
              "  <thead>\n",
              "    <tr style=\"text-align: right;\">\n",
              "      <th></th>\n",
              "      <th>postalcode</th>\n",
              "      <th>date</th>\n",
              "      <th>ndailydatapoints</th>\n",
              "      <th>dayofweek</th>\n",
              "      <th>daytype</th>\n",
              "      <th>bluecarstakensum</th>\n",
              "      <th>bluecarsreturnedsum</th>\n",
              "      <th>slotsfreedsum</th>\n",
              "      <th>slotstakensum</th>\n",
              "    </tr>\n",
              "  </thead>\n",
              "  <tbody>\n",
              "    <tr>\n",
              "      <th>2636</th>\n",
              "      <td>75017</td>\n",
              "      <td>6/4/2018</td>\n",
              "      <td>1440</td>\n",
              "      <td>Monday</td>\n",
              "      <td>weekday</td>\n",
              "      <td>707</td>\n",
              "      <td>707</td>\n",
              "      <td>163</td>\n",
              "      <td>161</td>\n",
              "    </tr>\n",
              "    <tr>\n",
              "      <th>2558</th>\n",
              "      <td>75017</td>\n",
              "      <td>3/7/2018</td>\n",
              "      <td>1440</td>\n",
              "      <td>Wednesday</td>\n",
              "      <td>weekday</td>\n",
              "      <td>741</td>\n",
              "      <td>733</td>\n",
              "      <td>196</td>\n",
              "      <td>200</td>\n",
              "    </tr>\n",
              "    <tr>\n",
              "      <th>2511</th>\n",
              "      <td>75017</td>\n",
              "      <td>1/16/2018</td>\n",
              "      <td>1440</td>\n",
              "      <td>Tuesday</td>\n",
              "      <td>weekday</td>\n",
              "      <td>702</td>\n",
              "      <td>676</td>\n",
              "      <td>163</td>\n",
              "      <td>159</td>\n",
              "    </tr>\n",
              "    <tr>\n",
              "      <th>2637</th>\n",
              "      <td>75017</td>\n",
              "      <td>6/5/2018</td>\n",
              "      <td>1439</td>\n",
              "      <td>Tuesday</td>\n",
              "      <td>weekday</td>\n",
              "      <td>744</td>\n",
              "      <td>712</td>\n",
              "      <td>217</td>\n",
              "      <td>204</td>\n",
              "    </tr>\n",
              "    <tr>\n",
              "      <th>2644</th>\n",
              "      <td>75017</td>\n",
              "      <td>6/12/2018</td>\n",
              "      <td>1439</td>\n",
              "      <td>Tuesday</td>\n",
              "      <td>weekday</td>\n",
              "      <td>755</td>\n",
              "      <td>763</td>\n",
              "      <td>212</td>\n",
              "      <td>213</td>\n",
              "    </tr>\n",
              "  </tbody>\n",
              "</table>\n",
              "</div>\n",
              "      <button class=\"colab-df-convert\" onclick=\"convertToInteractive('df-1a621699-4622-42f5-9227-59626f1a44a2')\"\n",
              "              title=\"Convert this dataframe to an interactive table.\"\n",
              "              style=\"display:none;\">\n",
              "        \n",
              "  <svg xmlns=\"http://www.w3.org/2000/svg\" height=\"24px\"viewBox=\"0 0 24 24\"\n",
              "       width=\"24px\">\n",
              "    <path d=\"M0 0h24v24H0V0z\" fill=\"none\"/>\n",
              "    <path d=\"M18.56 5.44l.94 2.06.94-2.06 2.06-.94-2.06-.94-.94-2.06-.94 2.06-2.06.94zm-11 1L8.5 8.5l.94-2.06 2.06-.94-2.06-.94L8.5 2.5l-.94 2.06-2.06.94zm10 10l.94 2.06.94-2.06 2.06-.94-2.06-.94-.94-2.06-.94 2.06-2.06.94z\"/><path d=\"M17.41 7.96l-1.37-1.37c-.4-.4-.92-.59-1.43-.59-.52 0-1.04.2-1.43.59L10.3 9.45l-7.72 7.72c-.78.78-.78 2.05 0 2.83L4 21.41c.39.39.9.59 1.41.59.51 0 1.02-.2 1.41-.59l7.78-7.78 2.81-2.81c.8-.78.8-2.07 0-2.86zM5.41 20L4 18.59l7.72-7.72 1.47 1.35L5.41 20z\"/>\n",
              "  </svg>\n",
              "      </button>\n",
              "      \n",
              "  <style>\n",
              "    .colab-df-container {\n",
              "      display:flex;\n",
              "      flex-wrap:wrap;\n",
              "      gap: 12px;\n",
              "    }\n",
              "\n",
              "    .colab-df-convert {\n",
              "      background-color: #E8F0FE;\n",
              "      border: none;\n",
              "      border-radius: 50%;\n",
              "      cursor: pointer;\n",
              "      display: none;\n",
              "      fill: #1967D2;\n",
              "      height: 32px;\n",
              "      padding: 0 0 0 0;\n",
              "      width: 32px;\n",
              "    }\n",
              "\n",
              "    .colab-df-convert:hover {\n",
              "      background-color: #E2EBFA;\n",
              "      box-shadow: 0px 1px 2px rgba(60, 64, 67, 0.3), 0px 1px 3px 1px rgba(60, 64, 67, 0.15);\n",
              "      fill: #174EA6;\n",
              "    }\n",
              "\n",
              "    [theme=dark] .colab-df-convert {\n",
              "      background-color: #3B4455;\n",
              "      fill: #D2E3FC;\n",
              "    }\n",
              "\n",
              "    [theme=dark] .colab-df-convert:hover {\n",
              "      background-color: #434B5C;\n",
              "      box-shadow: 0px 1px 3px 1px rgba(0, 0, 0, 0.15);\n",
              "      filter: drop-shadow(0px 1px 2px rgba(0, 0, 0, 0.3));\n",
              "      fill: #FFFFFF;\n",
              "    }\n",
              "  </style>\n",
              "\n",
              "      <script>\n",
              "        const buttonEl =\n",
              "          document.querySelector('#df-1a621699-4622-42f5-9227-59626f1a44a2 button.colab-df-convert');\n",
              "        buttonEl.style.display =\n",
              "          google.colab.kernel.accessAllowed ? 'block' : 'none';\n",
              "\n",
              "        async function convertToInteractive(key) {\n",
              "          const element = document.querySelector('#df-1a621699-4622-42f5-9227-59626f1a44a2');\n",
              "          const dataTable =\n",
              "            await google.colab.kernel.invokeFunction('convertToInteractive',\n",
              "                                                     [key], {});\n",
              "          if (!dataTable) return;\n",
              "\n",
              "          const docLinkHtml = 'Like what you see? Visit the ' +\n",
              "            '<a target=\"_blank\" href=https://colab.research.google.com/notebooks/data_table.ipynb>data table notebook</a>'\n",
              "            + ' to learn more about interactive tables.';\n",
              "          element.innerHTML = '';\n",
              "          dataTable['output_type'] = 'display_data';\n",
              "          await google.colab.output.renderOutput(dataTable, element);\n",
              "          const docLink = document.createElement('div');\n",
              "          docLink.innerHTML = docLinkHtml;\n",
              "          element.appendChild(docLink);\n",
              "        }\n",
              "      </script>\n",
              "    </div>\n",
              "  </div>\n",
              "  "
            ]
          },
          "metadata": {},
          "execution_count": 53
        }
      ]
    },
    {
      "cell_type": "markdown",
      "source": [
        "Mean of the population (sum of bluecarstaken) is 116.028\n",
        "\n",
        "Mean of the sample (bluecarstakensum) is 117.38\n",
        "\n",
        "Sample size is 1000\n",
        "\n",
        "Standard devaition of the sample is 169.4034\n",
        "\n",
        "Confidence interval is 95%"
      ],
      "metadata": {
        "id": "Q1_F8aXz13Bx"
      }
    },
    {
      "cell_type": "markdown",
      "source": [
        "Using Z-score to get P-value"
      ],
      "metadata": {
        "id": "dinTUhQW5IHg"
      }
    },
    {
      "cell_type": "code",
      "source": [
        "# calculating z_score to get p_value\n",
        "from scipy import stats \n",
        "# \n",
        "sample_size = 1000\n",
        "pop_mean = 116.028\n",
        "sample_mean = 117.38\n",
        "# zscore = (sample_mean - pop_mean) \n",
        "z_score = (117.38 - 116.028) / (169.4034 / (math.sqrt(1000)))\n",
        "z_score"
      ],
      "metadata": {
        "colab": {
          "base_uri": "https://localhost:8080/"
        },
        "id": "H6-ReL-F5GhA",
        "outputId": "a2b1d177-11a1-4a35-ffad-52feabe02e33"
      },
      "execution_count": null,
      "outputs": [
        {
          "output_type": "execute_result",
          "data": {
            "text/plain": [
              "0.25237978674262834"
            ]
          },
          "metadata": {},
          "execution_count": 54
        }
      ]
    },
    {
      "cell_type": "code",
      "source": [
        "import scipy.stats\n",
        "scipy.stats.norm.sf(abs(0.25237978674262834))*2 #since it is a two-tailed test where\n",
        "#we compare if the sample mean is greater or less than the population mean"
      ],
      "metadata": {
        "colab": {
          "base_uri": "https://localhost:8080/"
        },
        "id": "TiYXAfG7MArF",
        "outputId": "70b57035-0e5b-4783-c348-14300c21ec53"
      },
      "execution_count": null,
      "outputs": [
        {
          "output_type": "execute_result",
          "data": {
            "text/plain": [
              "0.800747522408216"
            ]
          },
          "metadata": {},
          "execution_count": 57
        }
      ]
    },
    {
      "cell_type": "markdown",
      "source": [
        "z_score = 0.25\n",
        "\n",
        "p_value = 0.80\n",
        "\n",
        "level of significance = 0.05\n",
        "\n",
        "p_value > 0.05\n",
        "\n",
        "From the analysis, we see that the p_value is greater than 0.05 which means there is not enough evidence to reject the null hypothesis, hence we fail to reject the Null hypothesis\n",
        "\n",
        "Therefore, we keep the claim that the number of Bluecars taken from the postal code 75015 is the same as the number of cars taken from the postal code 75017 during weekdays"
      ],
      "metadata": {
        "id": "gNB9wAnc8NwX"
      }
    },
    {
      "cell_type": "markdown",
      "source": [
        "Attached is the link to my Hypothesis testing report\n",
        "\n",
        "https://drive.google.com/drive/folders/1i8RY98hIR9aB6m2fYROz3msrVqnDb1j0?usp=sharing"
      ],
      "metadata": {
        "id": "oISTPF2QrvC-"
      }
    }
  ],
  "metadata": {
    "colab": {
      "name": "CHEROTICH FAITH_CORE_WEEK 4 IP_MORINGA.ipynb",
      "toc_visible": true,
      "provenance": [],
      "collapsed_sections": [
        "U5OYzu4p6a8i",
        "YEnhvbbg675L",
        "NuJD-GwL7llE",
        "Rt-C_Sg99P_o"
      ]
    },
    "kernelspec": {
      "display_name": "Python 3",
      "name": "python3"
    },
    "language_info": {
      "name": "python"
    }
  },
  "nbformat": 4,
  "nbformat_minor": 0
}